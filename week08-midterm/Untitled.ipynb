{
 "cells": [
  {
   "cell_type": "code",
   "execution_count": null,
   "metadata": {},
   "outputs": [],
   "source": [
    "import pandas as pd"
   ]
  },
  {
   "cell_type": "code",
   "execution_count": null,
   "metadata": {},
   "outputs": [],
   "source": [
    "data = pd.read_json('https://data.cdc.gov/api/views/e8kx-wbww/rows.json?accessType=DOWNLOAD')"
   ]
  },
  {
   "cell_type": "code",
   "execution_count": 1,
   "metadata": {},
   "outputs": [],
   "source": [
    "import pandas as pd\n",
    "import json \n",
    "import requests\n",
    "\n",
    "response = requests.get('https://data.cdc.gov/api/views/e8kx-wbww/rows.json?accessType=DOWNLOAD')\n",
    "json_data = json.loads(response.text)\n",
    "\n",
    "df = pd.DataFrame(json_data.get('data'))"
   ]
  },
  {
   "cell_type": "code",
   "execution_count": 2,
   "metadata": {},
   "outputs": [
    {
     "data": {
      "text/html": [
       "<div>\n",
       "<style scoped>\n",
       "    .dataframe tbody tr th:only-of-type {\n",
       "        vertical-align: middle;\n",
       "    }\n",
       "\n",
       "    .dataframe tbody tr th {\n",
       "        vertical-align: top;\n",
       "    }\n",
       "\n",
       "    .dataframe thead th {\n",
       "        text-align: right;\n",
       "    }\n",
       "</style>\n",
       "<table border=\"1\" class=\"dataframe\">\n",
       "  <thead>\n",
       "    <tr style=\"text-align: right;\">\n",
       "      <th></th>\n",
       "      <th>0</th>\n",
       "      <th>1</th>\n",
       "      <th>2</th>\n",
       "      <th>3</th>\n",
       "      <th>4</th>\n",
       "      <th>5</th>\n",
       "      <th>6</th>\n",
       "      <th>7</th>\n",
       "      <th>8</th>\n",
       "      <th>9</th>\n",
       "      <th>10</th>\n",
       "      <th>11</th>\n",
       "    </tr>\n",
       "  </thead>\n",
       "  <tbody>\n",
       "    <tr>\n",
       "      <th>0</th>\n",
       "      <td>row-iv33~tesn.zgi5</td>\n",
       "      <td>00000000-0000-0000-53D4-333901BECB03</td>\n",
       "      <td>0</td>\n",
       "      <td>1580141894</td>\n",
       "      <td>None</td>\n",
       "      <td>1580141894</td>\n",
       "      <td>None</td>\n",
       "      <td>{ }</td>\n",
       "      <td>1960</td>\n",
       "      <td>All Races</td>\n",
       "      <td>10-14 Years</td>\n",
       "      <td>0.8</td>\n",
       "    </tr>\n",
       "    <tr>\n",
       "      <th>1</th>\n",
       "      <td>row-74gu-3rvq-h5wf</td>\n",
       "      <td>00000000-0000-0000-0B9F-E1A6706D0075</td>\n",
       "      <td>0</td>\n",
       "      <td>1580141894</td>\n",
       "      <td>None</td>\n",
       "      <td>1580141894</td>\n",
       "      <td>None</td>\n",
       "      <td>{ }</td>\n",
       "      <td>1960</td>\n",
       "      <td>All Races</td>\n",
       "      <td>15-17 Years</td>\n",
       "      <td>43.9</td>\n",
       "    </tr>\n",
       "    <tr>\n",
       "      <th>2</th>\n",
       "      <td>row-a2zr.5imu-ecbh</td>\n",
       "      <td>00000000-0000-0000-0FFC-A65B15AE0CC5</td>\n",
       "      <td>0</td>\n",
       "      <td>1580141894</td>\n",
       "      <td>None</td>\n",
       "      <td>1580141894</td>\n",
       "      <td>None</td>\n",
       "      <td>{ }</td>\n",
       "      <td>1960</td>\n",
       "      <td>All Races</td>\n",
       "      <td>15-19 Years</td>\n",
       "      <td>89.1</td>\n",
       "    </tr>\n",
       "    <tr>\n",
       "      <th>3</th>\n",
       "      <td>row-xn2k~w5r5-4wqk</td>\n",
       "      <td>00000000-0000-0000-00A9-1BB08D9818A6</td>\n",
       "      <td>0</td>\n",
       "      <td>1580141894</td>\n",
       "      <td>None</td>\n",
       "      <td>1580141894</td>\n",
       "      <td>None</td>\n",
       "      <td>{ }</td>\n",
       "      <td>1960</td>\n",
       "      <td>All Races</td>\n",
       "      <td>18-19 Years</td>\n",
       "      <td>166.7</td>\n",
       "    </tr>\n",
       "    <tr>\n",
       "      <th>4</th>\n",
       "      <td>row-etr4.qn3w.x7ba</td>\n",
       "      <td>00000000-0000-0000-2626-7DCD8E4AC5ED</td>\n",
       "      <td>0</td>\n",
       "      <td>1580141894</td>\n",
       "      <td>None</td>\n",
       "      <td>1580141894</td>\n",
       "      <td>None</td>\n",
       "      <td>{ }</td>\n",
       "      <td>1961</td>\n",
       "      <td>All Races</td>\n",
       "      <td>10-14 Years</td>\n",
       "      <td>0.9</td>\n",
       "    </tr>\n",
       "  </tbody>\n",
       "</table>\n",
       "</div>"
      ],
      "text/plain": [
       "                    0                                     1  2           3  \\\n",
       "0  row-iv33~tesn.zgi5  00000000-0000-0000-53D4-333901BECB03  0  1580141894   \n",
       "1  row-74gu-3rvq-h5wf  00000000-0000-0000-0B9F-E1A6706D0075  0  1580141894   \n",
       "2  row-a2zr.5imu-ecbh  00000000-0000-0000-0FFC-A65B15AE0CC5  0  1580141894   \n",
       "3  row-xn2k~w5r5-4wqk  00000000-0000-0000-00A9-1BB08D9818A6  0  1580141894   \n",
       "4  row-etr4.qn3w.x7ba  00000000-0000-0000-2626-7DCD8E4AC5ED  0  1580141894   \n",
       "\n",
       "      4           5     6    7     8          9           10     11  \n",
       "0  None  1580141894  None  { }  1960  All Races  10-14 Years    0.8  \n",
       "1  None  1580141894  None  { }  1960  All Races  15-17 Years   43.9  \n",
       "2  None  1580141894  None  { }  1960  All Races  15-19 Years   89.1  \n",
       "3  None  1580141894  None  { }  1960  All Races  18-19 Years  166.7  \n",
       "4  None  1580141894  None  { }  1961  All Races  10-14 Years    0.9  "
      ]
     },
     "execution_count": 2,
     "metadata": {},
     "output_type": "execute_result"
    }
   ],
   "source": [
    "df.head()"
   ]
  },
  {
   "cell_type": "code",
   "execution_count": 1,
   "metadata": {},
   "outputs": [
    {
     "data": {
      "text/plain": [
       "6"
      ]
     },
     "execution_count": 1,
     "metadata": {},
     "output_type": "execute_result"
    }
   ],
   "source": [
    "sum([1,2,3])"
   ]
  },
  {
   "cell_type": "code",
   "execution_count": null,
   "metadata": {},
   "outputs": [],
   "source": []
  }
 ],
 "metadata": {
  "kernelspec": {
   "display_name": "Python 3",
   "language": "python",
   "name": "python3"
  },
  "language_info": {
   "codemirror_mode": {
    "name": "ipython",
    "version": 3
   },
   "file_extension": ".py",
   "mimetype": "text/x-python",
   "name": "python",
   "nbconvert_exporter": "python",
   "pygments_lexer": "ipython3",
   "version": "3.6.7"
  }
 },
 "nbformat": 4,
 "nbformat_minor": 4
}
