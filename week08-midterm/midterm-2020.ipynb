{
 "cells": [
  {
   "cell_type": "markdown",
   "metadata": {},
   "source": [
    "# HDS5210-2020 Midterm\n",
    "\n",
    "In the midterm, you're going to focus on using the programming skills that you've developed so far to build a calculator for the Apache II scoring system for ICU Mortality.  \n",
    "* https://www.mdcalc.com/apache-ii-score#evidence\n",
    "* https://reference.medscape.com/calculator/apache-ii-scoring-system\n",
    "\n",
    "For the midterm, we'll be building a calculator for the Apache II score and then running that against a patient file that's available to you out on the internet.  This will be broken down into three main steps:\n",
    "1. Create your JSON file to encapsulate all of the calculation rules for Apache II\n",
    "2. Create functions to calculate the Apache II score using your JSON configuration\n",
    "3. Create a function to loop over the patients in a file on the internet and calculate Apach II scores for all of them\n",
    "\n"
   ]
  },
  {
   "cell_type": "markdown",
   "metadata": {},
   "source": [
    "---\n",
    "\n",
    "## Part 1: Creating a JSON Rules File\n",
    "\n",
    "Look at the rules for the Apache II scoring system on the pages above.  The first step in the midterm is to use those rules and create a JSON configuration file as described in the 2019 midterm video.  I've provided a starter file named `apache.json` to get you started.\n",
    "\n",
    "Inside that file, you'll find placeholders for all of the measures that go into the Apache II scoring model:\n",
    "* Organ Failure History\n",
    "* Age\n",
    "* Temperature\n",
    "* [pH](https://en.wikipedia.org/wiki/PH)\n",
    "* Heart rate\n",
    "* Respiratory rate\n",
    "* [Sodium](https://www.mayoclinic.org/diseases-conditions/hyponatremia/symptoms-causes/syc-20373711)\n",
    "* [Potassium](https://www.emedicinehealth.com/hyperkalemia/article_em.htm)\n",
    "* [Creatinine](https://www.medicalnewstoday.com/articles/322380)\n",
    "* [Hematocrit](https://labtestsonline.org/tests/hematocrit)\n",
    "* White Blood Count\n",
    "* [FiO2](https://www.ausmed.com/cpd/articles/oxygen-flow-rate-and-fio2)\n",
    "* [PaO2](https://www.verywellhealth.com/partial-pressure-of-oyxgen-pa02-914920)\n",
    "* [A-a gradient](https://www.ncbi.nlm.nih.gov/books/NBK545153/)\n",
    "\n",
    "\n",
    "You may need to create a sort of nested set of rules in some cases.  For instance, the rule for Creatinine says to use certain ranges and points in the case of Acute Renal Failure and a different set of points for Chronic Renal Failure.\n",
    "\n",
    "Similarly, the rule for FiO2 says to use PaO2 to calculate scores if the FiO2 is <50, and to use A-a Gradient if the PaO2 is >50.\n",
    "\n",
    "When you've created your `apache.json` file, make sure it's in the same directory as this notebook."
   ]
  },
  {
   "cell_type": "markdown",
   "metadata": {},
   "source": [
    "### Testing your JSON\n",
    "\n",
    "The assert() functions below should all run just fine.  If you want to change the names of any of the keys in the JSON I provided you, you may, but you'll also need to update this test code so that it doesn't fail.  Remember, your notebook should be able to run end-to-end before you submit it."
   ]
  },
  {
   "cell_type": "code",
   "execution_count": 13,
   "metadata": {},
   "outputs": [],
   "source": [
    "import json\n",
    "\n",
    "with open('apache.json') as f:\n",
    "    rules = json.load(f)\n",
    "\n",
    "assert('Organ Failure History' in rules.keys())\n",
    "assert('Age' in rules.keys())\n",
    "assert('Temperature' in rules.keys())\n",
    "assert('pH' in rules.keys())\n",
    "assert('Heart Rate' in rules.keys())\n",
    "assert('Respiratory Rate' in rules.keys())\n",
    "assert('Sodium' in rules.keys())\n",
    "assert('Potassium' in rules.keys())\n",
    "assert('Creatinine' in rules.keys())\n",
    "assert('Hematocrit' in rules.keys())\n",
    "assert('White Blood Count' in rules.keys())\n",
    "assert('FiO2' in rules.keys())"
   ]
  },
  {
   "cell_type": "markdown",
   "metadata": {},
   "source": [
    "---\n",
    "\n",
    "## Part 2: Functions to evaluate rules\n",
    "\n",
    "Write a series of functions, enough to satisfy all of the main criteria that we're using to calculate the Apache II score.  That list is the same as the assert statements above.\n",
    "\n",
    "* Each of your functions should be well documented.\n",
    "* Each function should have \"config_file\" as one of it's parameters.\n",
    "* Each function should return a numerical score value.\n",
    "* Similar to what we discussed in the review, if you can generalize some rules, do so.  You should **NOT** end up with one function for each input variable.  If you did that, you'd have a lot of repetative code.\n",
    "\n",
    "The Glasgow Coma Scale is simply a 1-to-1 score translation.  Simply add the Glasgow Coma Scale value.  So, you don't need to write a function for this. [Glasgow Coma Scale](https://www.cdc.gov/masstrauma/resources/gcs.pdf)\n",
    "\n"
   ]
  },
  {
   "cell_type": "code",
   "execution_count": null,
   "metadata": {},
   "outputs": [],
   "source": []
  },
  {
   "cell_type": "code",
   "execution_count": null,
   "metadata": {},
   "outputs": [],
   "source": []
  },
  {
   "cell_type": "markdown",
   "metadata": {},
   "source": [
    "### Testing you Functions\n",
    "\n",
    "Write enough test cases to verify that your functions work for evaulating all of the scoring inputs.  Have at least 3 test cases for each input.\n",
    "\n",
    "These tests can be written the same as the assertions we've use in previous assignments.  For example, if you a function for `temperature_score` then you write a test case like:\n",
    "\n",
    "```\n",
    "assert( temperature_score(37) == 0 )\n",
    "```"
   ]
  },
  {
   "cell_type": "code",
   "execution_count": null,
   "metadata": {},
   "outputs": [],
   "source": []
  },
  {
   "cell_type": "markdown",
   "metadata": {},
   "source": [
    "---\n",
    "\n",
    "## Part 3: Put it all together\n",
    "\n",
    "Create a new function called `apache_score()` that takes all of the necessary inputs and returns the final Apache II score.  Use any variable names that you want.  For clarity and organization, my recommendation is to create them in the same order as they're documented in the website.\n",
    "\n",
    "1. Organ Failure History\n",
    "2. Age\n",
    "3. Temperature\n",
    "4. pH \n",
    "5. Heart rate\n",
    "6. Respiratory rate\n",
    "7. Sodium\n",
    "8. Potassium\n",
    "9. Creatinine\n",
    "10. Acute renal failure\n",
    "11. Hematocrit\n",
    "12. White Blood Count\n",
    "13. Glasgow Coma Scale\n",
    "14. FiO2\n",
    "15. PaO2\n",
    "16. A-a gradient\n"
   ]
  },
  {
   "cell_type": "code",
   "execution_count": null,
   "metadata": {},
   "outputs": [],
   "source": []
  },
  {
   "cell_type": "markdown",
   "metadata": {},
   "source": [
    "### Testing your Function\n",
    "\n",
    "Write a few test cases to make sure that your code functions correctly.  In the last step, you'll have LOTS of test cases run through, but you should do some of your before moving on."
   ]
  },
  {
   "cell_type": "code",
   "execution_count": null,
   "metadata": {},
   "outputs": [],
   "source": []
  },
  {
   "cell_type": "markdown",
   "metadata": {},
   "source": [
    "---\n",
    "\n",
    "## Part 4: Accessing and processing the patient file\n",
    "\n",
    "Fill out the simple function below to retrieve the patient data as a CSV file from any given URL and return a list of all of the Apache II scores based on the data you find for those patients.\n",
    "* The patient file will be a CSV\n",
    "* It will have column headers that match the labels shown above\n",
    "* The columns will not necessarily appear in the order shown above\n",
    "* You should output only the Apache II scores, not any other information\n",
    "* Your output should be a list in the same order as the input rows"
   ]
  },
  {
   "cell_type": "code",
   "execution_count": null,
   "metadata": {},
   "outputs": [],
   "source": []
  },
  {
   "cell_type": "markdown",
   "metadata": {},
   "source": [
    "### Testing your Function\n",
    "\n",
    "The URL for the test data is: https://hds5210-2020.s3.amazonaws.com/TestPatients.csv\n",
    "\n",
    "\n",
    "You can verify your results by comparing them against this data: https://hds5210-2020.s3.amazonaws.com/Scores.csv\n",
    "\n",
    "\n"
   ]
  },
  {
   "cell_type": "code",
   "execution_count": null,
   "metadata": {},
   "outputs": [],
   "source": []
  },
  {
   "cell_type": "code",
   "execution_count": null,
   "metadata": {},
   "outputs": [],
   "source": []
  }
 ],
 "metadata": {
  "kernelspec": {
   "display_name": "Python 3",
   "language": "python",
   "name": "python3"
  },
  "language_info": {
   "codemirror_mode": {
    "name": "ipython",
    "version": 3
   },
   "file_extension": ".py",
   "mimetype": "text/x-python",
   "name": "python",
   "nbconvert_exporter": "python",
   "pygments_lexer": "ipython3",
   "version": "3.6.7"
  }
 },
 "nbformat": 4,
 "nbformat_minor": 4
}
