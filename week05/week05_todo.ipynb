{
 "cells": [
  {
   "cell_type": "markdown",
   "metadata": {},
   "source": [
    "### Framingham Heart Failure Diagnosis\n",
    "\n",
    "Create a function called `framingham_score` that takes a list of diagnoses as it's only parameter.  It should return True if the patient is at risk or False if the patient is not at risk, according to the logic here: https://www.mdcalc.com/framingham-heart-failure-diagnostic-criteria\n",
    "\n",
    "Restated: If the patient has two major diagnoses from the list below or one major and two minor diagnoses, then they are at high risk.  Otherwise they are not at high risk.\n",
    "\n",
    "**MAJOR:**\n",
    "* Acute pulmonary edema\n",
    "* Cardiomegaly\n",
    "* Hepatojugular reflux\n",
    "* Neck vein distention\n",
    "* Paroxysmal nocturnal dyspnea or orthopnea\n",
    "* Pulmonary rales\n",
    "* Third heart sound (S3 gallop rhythm)\n",
    "* Weight loss >4.5 kg in 5 days in response to treatment\n",
    "\n",
    "**MINOR:**\n",
    "* Ankle edema\n",
    "* Dyspnea on exertion\n",
    "* Hepatomegaly\n",
    "* Nocturnal cough\n",
    "* Pleural effusion\n",
    "* Tachycardia (HR >120)"
   ]
  },
  {
   "cell_type": "markdown",
   "metadata": {},
   "source": [
    "---\n",
    "\n",
    "**Rubric**\n",
    "* Create a properly working function\n",
    "* Follow good practices for naming the function and its parameters\n",
    "* Encapsulate the diagnoses lists in a way that makes it easy to change in the future\n",
    "* Provide meaningful documentation\n",
    "* Provide sufficient docstring tests"
   ]
  },
  {
   "cell_type": "code",
   "execution_count": null,
   "metadata": {},
   "outputs": [],
   "source": [
    "# Inputs:\n",
    "#  - List of all of my observed symptoms\n",
    "# Rules:\n",
    "#  + What are the major criteria\n",
    "#  + What are the minor criteria\n",
    "#  + Logic for how to calculate True/False\n",
    "\n",
    "def framingham_diagnosis(symptoms):\n",
    "    # Do whatever the logic is\n",
    "    \n",
    "    "
   ]
  },
  {
   "cell_type": "code",
   "execution_count": null,
   "metadata": {},
   "outputs": [],
   "source": []
  }
 ],
 "metadata": {
  "kernelspec": {
   "display_name": "Python 3",
   "language": "python",
   "name": "python3"
  },
  "language_info": {
   "codemirror_mode": {
    "name": "ipython",
    "version": 3
   },
   "file_extension": ".py",
   "mimetype": "text/x-python",
   "name": "python",
   "nbconvert_exporter": "python",
   "pygments_lexer": "ipython3",
   "version": "3.6.7"
  }
 },
 "nbformat": 4,
 "nbformat_minor": 4
}
