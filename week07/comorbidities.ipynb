{
 "cells": [
  {
   "cell_type": "markdown",
   "metadata": {},
   "source": [
    "# Lace Comorbidities Rule Example\n",
    "\n",
    "In this example problem/solution, we have series of rules in the `lace_rules.json` file that represent how many additional points on the LACE score should be given for each comorbidity a patient might have.  https://micmrc.org/system/files/LACE_tool%204.23.13.pdf\n",
    "\n",
    "---\n",
    "\n",
    "## Problem\n",
    "\n",
    "Below, we have a function that takes as input a list of comorbidities that a patient actually does have and the name of a configuration file to use for calculating total comorbidity points based on that list.\n",
    "\n",
    "---\n",
    "\n",
    "## Approach\n",
    "\n",
    "First, take a look at lace_rules.json in this directory.  At its core is a dictionary that maps between each comorbidity (the key) and how points to add (the value).\n",
    "\n",
    "```json\n",
    "{\n",
    "    \"comorbidities\": {\n",
    "        \"previous myocardial infarction\": 1,\n",
    "        \"cerebrovascular disease\": 1,\n",
    "...\n",
    "```\n",
    "\n",
    "Our first step will be to read the configuraiton files and load a Python variable using the data inside.  We know this is JSON, so we can use the json module. \n",
    "\n",
    "Next, our output from the function will need to be a total score, so we can create a `score` return variable and set it to `0` as an initial value.\n",
    "\n",
    "Because our input is a **list** of all the comorbidities that a particular patient actually does have, and we need to assign points for all of the comorbidities that appear in the list, we will need to start by setting up a loop to examine each of the items in the list of comorbidities.\n",
    "\n",
    "Then, all we have to do to get the incremental score for that comorbidity is use the dictionary `get` method to retreive the corresponding value (points)."
   ]
  },
  {
   "cell_type": "code",
   "execution_count": 11,
   "metadata": {},
   "outputs": [],
   "source": [
    "import json\n",
    "\n",
    "def comorbidity_score(comorbidities, config_file):\n",
    "    \"\"\"list, str -> int\n",
    "    \"\"\"\n",
    "    \n",
    "    # STEP 1\n",
    "    # Use the json.load() method to read the configuration file in JSON format\n",
    "    config = json.load(open(config_file))\n",
    "    \n",
    "    # STEP 2\n",
    "    # Create a new variable that contains just the comorbiditites dictionary from the JSON.\n",
    "    # This is just for convenience, but it does make the rest of the code easier to read.\n",
    "    rules = config.get('comorbidities')\n",
    "    \n",
    "    # STEP 3\n",
    "    # Set our output variable with a default value of 0\n",
    "    score = 0\n",
    "    \n",
    "    \n",
    "    # STEP 4\n",
    "    # Loop through the list of comorbidities and see if they match one of the comorbidities that \n",
    "    # has points in the LACE system.\n",
    "    for item in comorbidities:\n",
    "        item_score = rules.get(item)\n",
    "        score = score + item_score\n",
    "        \n",
    "    # STEP 5\n",
    "    # Return the score\n",
    "    return score"
   ]
  },
  {
   "cell_type": "markdown",
   "metadata": {},
   "source": [
    "---\n",
    "\n",
    "# Testing our Function\n",
    "\n",
    "We can run some tests on our function.  It's good to test all of the known single values, an empty list situation, and a few combinations of two or three items.  You should even test what happens if there's a comorbidity that doesn't count for any points in LACE.\n",
    "\n",
    "---"
   ]
  },
  {
   "cell_type": "code",
   "execution_count": 12,
   "metadata": {},
   "outputs": [],
   "source": [
    "config_file = \"lace_rules.json\"\n",
    "\n",
    "assert(comorbidity_score([\"previous myocardial infarction\"], config_file) == 1)\n",
    "assert(comorbidity_score([\"cerebrovascular disease\"], config_file) == 1)\n",
    "assert(comorbidity_score([\"peripheral vascular disease\"], config_file) == 1)\n",
    "assert(comorbidity_score([\"diabetes without complications\"], config_file) == 1)\n",
    "assert(comorbidity_score([\"congestive heart failure\"], config_file) == 2)\n",
    "assert(comorbidity_score([\"diabetes with end organ damage\"], config_file) == 2)\n",
    "assert(comorbidity_score([\"chronic pulmonary disease\"], config_file) == 2)\n",
    "assert(comorbidity_score([\"mild liver or renal disease\"], config_file) == 2)\n",
    "assert(comorbidity_score([\"any tumor (including lymphoma or leukemia)\"], config_file) == 2)\n",
    "assert(comorbidity_score([\"dementia\"], config_file) == 3)\n",
    "assert(comorbidity_score([\"connective tissue disease\"], config_file) == 3)\n",
    "assert(comorbidity_score([\"AIDS\"], config_file) == 4)\n",
    "assert(comorbidity_score([\"moderate or severe liver or renal disease\"], config_file) == 4)\n",
    "assert(comorbidity_score([\"metastatic solid tumor\"], config_file) == 6)\n"
   ]
  },
  {
   "cell_type": "code",
   "execution_count": 14,
   "metadata": {},
   "outputs": [],
   "source": [
    "assert(comorbidity_score([\"metastatic solid tumor\", \"dementia\"], config_file) == 9)\n"
   ]
  },
  {
   "cell_type": "code",
   "execution_count": null,
   "metadata": {},
   "outputs": [],
   "source": []
  }
 ],
 "metadata": {
  "kernelspec": {
   "display_name": "Python 3",
   "language": "python",
   "name": "python3"
  },
  "language_info": {
   "codemirror_mode": {
    "name": "ipython",
    "version": 3
   },
   "file_extension": ".py",
   "mimetype": "text/x-python",
   "name": "python",
   "nbconvert_exporter": "python",
   "pygments_lexer": "ipython3",
   "version": "3.7.1"
  }
 },
 "nbformat": 4,
 "nbformat_minor": 2
}
