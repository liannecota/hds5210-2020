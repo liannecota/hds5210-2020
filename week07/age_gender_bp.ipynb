{
 "cells": [
  {
   "cell_type": "code",
   "execution_count": 3,
   "metadata": {},
   "outputs": [],
   "source": [
    "import json\n",
    "\n",
    "def bp_by_age_gender(age, gender, config_file):\n",
    "    bp = None\n",
    "    with open(config_file) as f:\n",
    "        config = json.load(f)\n",
    "    \n",
    "    for rule in config.get('bp_by_age_gender'):\n",
    "        if gender == rule.get('gender'):\n",
    "            if age >= rule.get('min_age') and age <= rule.get('max_age'):\n",
    "                bp = rule.get('bp')\n",
    "    \n",
    "    return bp"
   ]
  },
  {
   "cell_type": "code",
   "execution_count": 6,
   "metadata": {},
   "outputs": [],
   "source": [
    "assert(bp_by_age_gender(15,'male','combo_rules.json') == 120)\n",
    "assert(bp_by_age_gender(26,'male','combo_rules.json') == 121)\n",
    "assert(bp_by_age_gender(15,'female','combo_rules.json') == 117)\n"
   ]
  },
  {
   "cell_type": "code",
   "execution_count": null,
   "metadata": {},
   "outputs": [],
   "source": []
  }
 ],
 "metadata": {
  "kernelspec": {
   "display_name": "Python 3",
   "language": "python",
   "name": "python3"
  },
  "language_info": {
   "codemirror_mode": {
    "name": "ipython",
    "version": 3
   },
   "file_extension": ".py",
   "mimetype": "text/x-python",
   "name": "python",
   "nbconvert_exporter": "python",
   "pygments_lexer": "ipython3",
   "version": "3.7.1"
  }
 },
 "nbformat": 4,
 "nbformat_minor": 2
}
