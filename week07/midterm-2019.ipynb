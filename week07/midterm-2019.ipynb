{
 "cells": [
  {
   "cell_type": "markdown",
   "metadata": {
    "nbgrader": {
     "grade": false,
     "grade_id": "intro",
     "locked": true,
     "schema_version": 1,
     "solution": false
    }
   },
   "source": [
    "# Midterm - Spring 2019\n",
    "\n",
    "There are going to be three steps to this midterm assignment, based on something called the MAGGIC Risk Score found here: https://www.mdcalc.com/maggic-risk-calculator-heart-failure#evidence\n",
    "\n",
    "The MAGGIC Risk Score is a way of measuring how likely a patient is to have heart failure.\n",
    "\n",
    "For the midterm, you will need to do three things:\n",
    "\n",
    "1. Create JSON in a file or series of files the encapsulate the calculation rules in the MAGGIC risk calculator.\n",
    "2. Create a series of functions to calculate each component score (seven functions in total).\n",
    "3. Create a function that calculates the MAGGIC score for a particular person.\n"
   ]
  },
  {
   "cell_type": "markdown",
   "metadata": {
    "nbgrader": {
     "grade": false,
     "grade_id": "q1",
     "locked": true,
     "schema_version": 1,
     "solution": false
    }
   },
   "source": [
    "# #1 Create JSON for MAGGIC calculation rules\n",
    "\n",
    "In this directory, create one or more JSON files that you will use in steps 2 and 3 to calculate the MAGGIC scores.  This JSON you create will need to encapsulate the scoring rules from teh MAGGIC risk calculator so that, if the rules were to change slightly in the future or be different for different populations, then you could easily swap out a different set of rules.\n",
    "\n",
    "You can find all of the rules here: https://www.mdcalc.com/maggic-risk-calculator-heart-failure#evidence\n",
    "\n",
    "For example, when a MAGGIC scoring rule says that being `male` earns the patient and extra `+1`, you could encode that in JSON as a simple dictionary item:\n",
    "\n",
    "```python\n",
    "{\n",
    "    \"male\": 1\n",
    "}\n",
    "```\n",
    "\n",
    "Or when MAGGIC says that a patient's BMI range should give them additional points, you could encode that by storing a list of min, max, and points.  In my example, I'm going to assume the \"max\" is exclusive (i.e. min <= value < max).  If you were to put all of this in one file together with other rules, you might include this in a larger dictionary as shown below.  If it is a file by itself, you could just have the list for bmi in a stand-alone file.\n",
    "\n",
    "```python\n",
    "{\n",
    "    \"risk_factors\": {\n",
    "        \"male\": 1,\n",
    "        \"smoker\": 1,\n",
    "        \"diabetic\": 3\n",
    "    },\n",
    "    \"bmi\": [\n",
    "        { \"min\":  0, \"max\": 15, \"points\": 6 },\n",
    "        { \"min\": 15, \"max\": 20, \"points\": 5 },\n",
    "        { \"min\": 20, \"max\": 25, \"points\": 3 },\n",
    "        { \"min\": 25, \"max\": 30, \"points\": 2 }\n",
    "    ]\n",
    "}\n",
    "```\n",
    "\n",
    "\n",
    "There is a file `maggic.json` in this directory with the contents above that you can use as a sample to start with.  Don't assume what's in the file is correct, though!\n",
    "\n",
    "\n",
    "**NOTE:** Your code should be able to handle input that comes to it in all lowercase characters.  Look in the testing cells for part 2 and 3 to see how your code will be tested."
   ]
  },
  {
   "cell_type": "code",
   "execution_count": 1,
   "metadata": {
    "nbgrader": {
     "grade": true,
     "grade_id": "q1-answer",
     "locked": false,
     "points": 15,
     "schema_version": 1,
     "solution": true
    }
   },
   "outputs": [],
   "source": [
    "# Remove any contents here and leave this blank"
   ]
  },
  {
   "cell_type": "markdown",
   "metadata": {
    "nbgrader": {
     "grade": false,
     "grade_id": "q2",
     "locked": true,
     "schema_version": 1,
     "solution": false
    }
   },
   "source": [
    "# #2 MAGGIC Scoring Functions\n",
    "\n",
    "Write individual functions for all of your rules that are encoded in the JSON from part 1.  I've created a series of tests that will verify your functions are working correctly.  In the spaces for solutions below, I've provided the function name and parameters.  Use those, but you'll need to fill in the function.\n",
    "\n",
    "**NOTE:** Your code should be able to handle input that comes to it in all lowercase characters.  Look in the testing cells below to see how your code will be tested.\n"
   ]
  },
  {
   "cell_type": "markdown",
   "metadata": {
    "nbgrader": {
     "grade": false,
     "grade_id": "q2a",
     "locked": true,
     "schema_version": 1,
     "solution": false
    }
   },
   "source": [
    "## #2A - Risk Factors"
   ]
  },
  {
   "cell_type": "code",
   "execution_count": 2,
   "metadata": {
    "nbgrader": {
     "grade": false,
     "grade_id": "q2a-solution",
     "locked": false,
     "schema_version": 1,
     "solution": true
    }
   },
   "outputs": [],
   "source": [
    "import json\n",
    "\n",
    "def risk_factors_score(risks_list, config_file):\n",
    "    \"\"\" list, str -> int\n",
    "    risk_list: A list of strings that include various risk factors this subject DOES have\n",
    "    config_file: The name of a configuration file to use for scoring these risk factors\n",
    "    \n",
    "    The function should return a score for this subject based on the risk factors in the risk_list\n",
    "    and the scoring rules in the config_file.  For instance, if the subject is Male and Diabetic,\n",
    "    the risk score would be 1 + 3 = 4, and the function should return 4.\n",
    "    \"\"\"\n",
    "    \n",
    "    score = 0\n",
    "    \n",
    "    ### BEGIN SOLUTION\n",
    "    \n",
    "    config = json.load(open(config_file))\n",
    "    risk_factor_scores = config.get(\"risk_factors\")\n",
    "    \n",
    "    for risk in risks_list:\n",
    "        if risk in risk_factor_scores:\n",
    "            score += risk_factor_scores.get(risk)\n",
    "    \n",
    "    ### END SOLUTION\n",
    "\n",
    "    return score\n"
   ]
  },
  {
   "cell_type": "code",
   "execution_count": 3,
   "metadata": {},
   "outputs": [],
   "source": [
    "# Put the name of your configuration file below\n",
    "RISK_FACTORS_CONFIG_FILE = \"maggic.json\""
   ]
  },
  {
   "cell_type": "code",
   "execution_count": 4,
   "metadata": {
    "nbgrader": {
     "grade": true,
     "grade_id": "q2a-test",
     "locked": true,
     "points": 15,
     "schema_version": 1,
     "solution": false
    }
   },
   "outputs": [],
   "source": [
    "assert(risk_factors_score([],RISK_FACTORS_CONFIG_FILE) == 0)\n",
    "assert(risk_factors_score(['male'],RISK_FACTORS_CONFIG_FILE) == 1)\n",
    "assert(risk_factors_score(['smoker'],RISK_FACTORS_CONFIG_FILE) == 1)\n",
    "assert(risk_factors_score(['diabetic'],RISK_FACTORS_CONFIG_FILE) == 3)\n",
    "assert(risk_factors_score(['copd'],RISK_FACTORS_CONFIG_FILE) == 2)\n",
    "assert(risk_factors_score(['heart failure first diagnosed >= 18 months ago'],RISK_FACTORS_CONFIG_FILE) == 2)\n",
    "assert(risk_factors_score(['not on beta blocker'],RISK_FACTORS_CONFIG_FILE) == 3)\n",
    "assert(risk_factors_score(['not on ace-i/arb'],RISK_FACTORS_CONFIG_FILE) == 1)\n",
    "assert(risk_factors_score(['not on ace-i/arb', 'male'],RISK_FACTORS_CONFIG_FILE) == 2)\n",
    "assert(risk_factors_score(['smoker','male','copd'],RISK_FACTORS_CONFIG_FILE) == 4)"
   ]
  },
  {
   "cell_type": "markdown",
   "metadata": {
    "nbgrader": {
     "grade": false,
     "grade_id": "q2b",
     "locked": true,
     "schema_version": 1,
     "solution": false
    }
   },
   "source": [
    "## #2B Ejection Fraction\n",
    "\n",
    "**NOTE:** The ejection fraction is a percentage that can't be greater than 100.  Your code and configuration model can assume the value will always be between 0 and 100."
   ]
  },
  {
   "cell_type": "code",
   "execution_count": 5,
   "metadata": {
    "nbgrader": {
     "grade": false,
     "grade_id": "q2b-answer",
     "locked": false,
     "schema_version": 1,
     "solution": true
    }
   },
   "outputs": [],
   "source": [
    "import json\n",
    "\n",
    "def ejection_fraction_score(ef, config_file):\n",
    "    \"\"\" int, str -> int\n",
    "    ef: The ejection fraction measurement as an integer value\n",
    "    config_file: The name of a configuration file to use for scoring the ejection fraction\n",
    "    \n",
    "    The function should return a score for this subject based on where their actual ejection fraction\n",
    "    falls in the scoring rules.\n",
    "    \"\"\"\n",
    "    \n",
    "    ef_score = 0\n",
    "    \n",
    "    ### BEGIN SOLUTION\n",
    "    \n",
    "    config = json.load(open(config_file))\n",
    "    ef_rules = config.get(\"ejection_fraction\")\n",
    "    \n",
    "    for rule in ef_rules:\n",
    "        if ef >= rule.get('min') and ef < rule.get('max'):\n",
    "            ef_score = rule.get('points')\n",
    "    \n",
    "    ### END SOLUTION\n",
    "\n",
    "    return ef_score\n"
   ]
  },
  {
   "cell_type": "code",
   "execution_count": 6,
   "metadata": {},
   "outputs": [],
   "source": [
    "# Put the name of your configuration file below\n",
    "EF_CONFIG_FILE = \"maggic.json\""
   ]
  },
  {
   "cell_type": "code",
   "execution_count": 7,
   "metadata": {
    "nbgrader": {
     "grade": true,
     "grade_id": "q2b-tests",
     "locked": true,
     "points": 15,
     "schema_version": 1,
     "solution": false
    }
   },
   "outputs": [],
   "source": [
    "assert(ejection_fraction_score(0,  EF_CONFIG_FILE)==7)\n",
    "assert(ejection_fraction_score(15, EF_CONFIG_FILE)==7)\n",
    "assert(ejection_fraction_score(20, EF_CONFIG_FILE)==6)\n",
    "assert(ejection_fraction_score(21, EF_CONFIG_FILE)==6)\n",
    "assert(ejection_fraction_score(25, EF_CONFIG_FILE)==5)\n",
    "assert(ejection_fraction_score(29, EF_CONFIG_FILE)==5)\n",
    "assert(ejection_fraction_score(32, EF_CONFIG_FILE)==3)\n",
    "assert(ejection_fraction_score(35, EF_CONFIG_FILE)==2)\n",
    "assert(ejection_fraction_score(36, EF_CONFIG_FILE)==2)\n",
    "assert(ejection_fraction_score(40, EF_CONFIG_FILE)==0)\n",
    "assert(ejection_fraction_score(80, EF_CONFIG_FILE)==0)\n",
    "assert(ejection_fraction_score(100,EF_CONFIG_FILE)==0)"
   ]
  },
  {
   "cell_type": "markdown",
   "metadata": {
    "nbgrader": {
     "grade": false,
     "grade_id": "q2c-intro",
     "locked": true,
     "schema_version": 1,
     "solution": false
    }
   },
   "source": [
    "## #2C NYHA Class\n",
    "\n",
    "**NOTE:** If your function is provided an invalid NYHA class, please return 0."
   ]
  },
  {
   "cell_type": "code",
   "execution_count": 8,
   "metadata": {
    "nbgrader": {
     "grade": false,
     "grade_id": "q2c-solution",
     "locked": false,
     "schema_version": 1,
     "solution": true
    }
   },
   "outputs": [],
   "source": [
    "import json\n",
    "\n",
    "def nhya_class_score(nhya, config_file):\n",
    "    \"\"\" int, str -> int\n",
    "    nyha: The NHYA class for this subject\n",
    "    config_file: The name of a configuration file to use for scoring the NHYA class\n",
    "    \n",
    "    The function should return a score for this subject based on where their NHYA class.\n",
    "    \n",
    "    See https://www.heart.org/en/health-topics/heart-failure/what-is-heart-failure/classes-of-heart-failure \n",
    "    if you're curious about the NHYA classification system.\n",
    "    \"\"\"\n",
    "    \n",
    "    nhya_score = 0\n",
    "    \n",
    "    ### BEGIN SOLUTION\n",
    "    \n",
    "    config = json.load(open(config_file))\n",
    "    nhya_rules = config.get(\"nhya_class\")\n",
    "\n",
    "    nhya_score = nhya_rules.get(str(nhya))\n",
    "    if nhya_score == None:\n",
    "        nhya_score = 0\n",
    "    \n",
    "    ### END SOLUTION\n",
    "\n",
    "    return nhya_score\n"
   ]
  },
  {
   "cell_type": "code",
   "execution_count": 9,
   "metadata": {},
   "outputs": [],
   "source": [
    "# Put the name of your configuration file below\n",
    "NHYA_CONFIG_FILE = \"maggic.json\""
   ]
  },
  {
   "cell_type": "code",
   "execution_count": 10,
   "metadata": {
    "nbgrader": {
     "grade": true,
     "grade_id": "q2c-tests",
     "locked": true,
     "points": 15,
     "schema_version": 1,
     "solution": false
    }
   },
   "outputs": [],
   "source": [
    "assert(nhya_class_score(0,NHYA_CONFIG_FILE)==0)\n",
    "assert(nhya_class_score(1,NHYA_CONFIG_FILE)==0)\n",
    "assert(nhya_class_score(2,NHYA_CONFIG_FILE)==2)\n",
    "assert(nhya_class_score(3,NHYA_CONFIG_FILE)==6)\n",
    "assert(nhya_class_score(4,NHYA_CONFIG_FILE)==8)\n",
    "assert(nhya_class_score(5,NHYA_CONFIG_FILE)==0)"
   ]
  },
  {
   "cell_type": "markdown",
   "metadata": {
    "nbgrader": {
     "grade": false,
     "grade_id": "q2d-intro",
     "locked": true,
     "schema_version": 1,
     "solution": false
    }
   },
   "source": [
    "## #2D Creatinine Level"
   ]
  },
  {
   "cell_type": "code",
   "execution_count": 11,
   "metadata": {
    "nbgrader": {
     "grade": false,
     "grade_id": "q2d-solution",
     "locked": false,
     "schema_version": 1,
     "solution": true
    }
   },
   "outputs": [],
   "source": [
    "import json\n",
    "\n",
    "def creatinine_level_score(creatinine, config_file):\n",
    "    \"\"\" int, str -> int\n",
    "    creatinine: The creatinine measurement as an integer value\n",
    "    config_file: The name of a configuration file to use for scoring the creatinine level\n",
    "    \n",
    "    The function should return a score for this subject based on where their creatinine level\n",
    "    falls in the scoring rules.\n",
    "    \"\"\"\n",
    "    \n",
    "    c_score = 0\n",
    "    \n",
    "    ### BEGIN SOLUTION\n",
    "    \n",
    "    config = json.load(open(config_file))\n",
    "    c_rules = config.get(\"creatinine_level\")\n",
    "    \n",
    "    for rule in c_rules:\n",
    "        if creatinine >= rule.get('min') and creatinine < rule.get('max'):\n",
    "            c_score = rule.get('points')\n",
    "    \n",
    "    ### END SOLUTION\n",
    "\n",
    "    return c_score\n"
   ]
  },
  {
   "cell_type": "code",
   "execution_count": 12,
   "metadata": {},
   "outputs": [],
   "source": [
    "# Put the name of your configuration file below\n",
    "CREATININE_CONFIG_FILE = \"maggic.json\""
   ]
  },
  {
   "cell_type": "code",
   "execution_count": 13,
   "metadata": {
    "nbgrader": {
     "grade": true,
     "grade_id": "q2d-tests",
     "locked": true,
     "points": 15,
     "schema_version": 1,
     "solution": false
    }
   },
   "outputs": [],
   "source": [
    "assert(creatinine_level_score(0,CREATININE_CONFIG_FILE)==0)\n",
    "assert(creatinine_level_score(10,CREATININE_CONFIG_FILE)==0)\n",
    "assert(creatinine_level_score(90,CREATININE_CONFIG_FILE)==1)\n",
    "assert(creatinine_level_score(100,CREATININE_CONFIG_FILE)==1)\n",
    "assert(creatinine_level_score(115,CREATININE_CONFIG_FILE)==2)\n",
    "assert(creatinine_level_score(121,CREATININE_CONFIG_FILE)==2)\n",
    "assert(creatinine_level_score(143,CREATININE_CONFIG_FILE)==3)\n",
    "assert(creatinine_level_score(150,CREATININE_CONFIG_FILE)==4)\n",
    "assert(creatinine_level_score(174,CREATININE_CONFIG_FILE)==5)\n",
    "assert(creatinine_level_score(220,CREATININE_CONFIG_FILE)==6)\n",
    "assert(creatinine_level_score(290,CREATININE_CONFIG_FILE)==8)"
   ]
  },
  {
   "cell_type": "markdown",
   "metadata": {
    "nbgrader": {
     "grade": false,
     "grade_id": "q2e-intro",
     "locked": true,
     "schema_version": 1,
     "solution": false
    }
   },
   "source": [
    "## #2D BMI\n",
    "\n",
    "**NOTE:** You can assume that BMI will be a positive integer that is not more than 100"
   ]
  },
  {
   "cell_type": "code",
   "execution_count": 14,
   "metadata": {
    "nbgrader": {
     "grade": false,
     "grade_id": "q2e-solution",
     "locked": false,
     "schema_version": 1,
     "solution": true
    }
   },
   "outputs": [],
   "source": [
    "import json\n",
    "\n",
    "def bmi_score(bmi, config_file):\n",
    "    \"\"\" int, str -> int\n",
    "    bmi: The BMI measurement as an integer value between 0 and 100\n",
    "    config_file: The name of a configuration file to use for scoring the BMI\n",
    "    \n",
    "    The function should return a score for this subject based on where their BMI\n",
    "    falls in the scoring rules.\n",
    "    \"\"\"\n",
    "    \n",
    "    score = 0\n",
    "    \n",
    "    ### BEGIN SOLUTION\n",
    "    \n",
    "    config = json.load(open(config_file))\n",
    "    bmi_rules = config.get(\"bmi\")\n",
    "    \n",
    "    for rule in bmi_rules:\n",
    "        if bmi >= rule.get('min') and bmi < rule.get('max'):\n",
    "            score = rule.get('points')\n",
    "    \n",
    "    ### END SOLUTION\n",
    "\n",
    "    return score\n"
   ]
  },
  {
   "cell_type": "code",
   "execution_count": 15,
   "metadata": {},
   "outputs": [],
   "source": [
    "# Put the name of your configuration file below\n",
    "BMI_CONFIG_FILE = \"maggic.json\""
   ]
  },
  {
   "cell_type": "code",
   "execution_count": 16,
   "metadata": {
    "nbgrader": {
     "grade": true,
     "grade_id": "q2e-tests",
     "locked": true,
     "points": 15,
     "schema_version": 1,
     "solution": false
    }
   },
   "outputs": [],
   "source": [
    "assert(bmi_score(10,BMI_CONFIG_FILE)==6)\n",
    "assert(bmi_score(15,BMI_CONFIG_FILE)==5)\n",
    "assert(bmi_score(23,BMI_CONFIG_FILE)==3)\n",
    "assert(bmi_score(29,BMI_CONFIG_FILE)==2)\n",
    "assert(bmi_score(32,BMI_CONFIG_FILE)==0)\n",
    "assert(bmi_score(35,BMI_CONFIG_FILE)==0)"
   ]
  },
  {
   "cell_type": "markdown",
   "metadata": {
    "nbgrader": {
     "grade": false,
     "grade_id": "q2f-intro",
     "locked": true,
     "schema_version": 1,
     "solution": false
    }
   },
   "source": [
    "## #2F Ejection Fraction and Systolic"
   ]
  },
  {
   "cell_type": "code",
   "execution_count": 17,
   "metadata": {
    "nbgrader": {
     "grade": false,
     "grade_id": "q2f-solution",
     "locked": false,
     "schema_version": 1,
     "solution": true
    }
   },
   "outputs": [],
   "source": [
    "import json\n",
    "\n",
    "def ef_bp(ef, bp, config_file):\n",
    "    \"\"\" int, int, str -> int\n",
    "    ef: The ejection fraction for this subject\n",
    "    bp: The systollic BP for this subject\n",
    "    config_file: The name of a configuration file to use for scoring the ef/bp combination\n",
    "\n",
    "    You'll note in the MAGGIC rules that this score depends on both the ejection fraction range\n",
    "    and the systollic BP range.  Your code will need to the combination of \n",
    "    values to find the right score.  There are three ejection fraction ranges\n",
    "    and six systollic BP ranges.\n",
    "    \"\"\"\n",
    "    \n",
    "    score = 0\n",
    "    \n",
    "    ### BEGIN SOLUTION\n",
    "    \n",
    "    config = json.load(open(config_file))\n",
    "    rules = config.get(\"ef_bp_and_age\")\n",
    "    bp_rules = {}\n",
    "    \n",
    "    for ef_rule in rules:\n",
    "        if ef >= ef_rule.get('min') and ef < ef_rule.get('max'):\n",
    "            bp_rules = ef_rule.get('bp')\n",
    "\n",
    "    for bp_rule in bp_rules:\n",
    "        if bp >= bp_rule.get('min') and bp < bp_rule.get('max'):\n",
    "            score = bp_rule.get('points')\n",
    "    \n",
    "    ### END SOLUTION\n",
    "\n",
    "    return score\n"
   ]
  },
  {
   "cell_type": "code",
   "execution_count": 18,
   "metadata": {},
   "outputs": [],
   "source": [
    "# Put the name of your configuration file below\n",
    "EF_BP_CONFIG_FILE = \"maggic.json\""
   ]
  },
  {
   "cell_type": "code",
   "execution_count": 19,
   "metadata": {
    "nbgrader": {
     "grade": true,
     "grade_id": "q2f-tests",
     "locked": true,
     "points": 15,
     "schema_version": 1,
     "solution": false
    }
   },
   "outputs": [],
   "source": [
    "assert(ef_bp(20,90,EF_BP_CONFIG_FILE)==5)\n",
    "assert(ef_bp(25,115,EF_BP_CONFIG_FILE)==4)\n",
    "assert(ef_bp(10,133,EF_BP_CONFIG_FILE)==2)\n",
    "assert(ef_bp(29,142,EF_BP_CONFIG_FILE)==1)\n",
    "assert(ef_bp(20,160,EF_BP_CONFIG_FILE)==0)\n",
    "assert(ef_bp(30,90,EF_BP_CONFIG_FILE)==3)\n",
    "assert(ef_bp(35,115,EF_BP_CONFIG_FILE)==2)\n",
    "assert(ef_bp(33,133,EF_BP_CONFIG_FILE)==1)\n",
    "assert(ef_bp(39,142,EF_BP_CONFIG_FILE)==0)\n",
    "assert(ef_bp(30,160,EF_BP_CONFIG_FILE)==0)\n",
    "assert(ef_bp(40,90,EF_BP_CONFIG_FILE)==2)\n",
    "assert(ef_bp(45,115,EF_BP_CONFIG_FILE)==1)\n",
    "assert(ef_bp(43,133,EF_BP_CONFIG_FILE)==0)\n",
    "assert(ef_bp(49,142,EF_BP_CONFIG_FILE)==0)\n",
    "assert(ef_bp(40,160,EF_BP_CONFIG_FILE)==0)\n"
   ]
  },
  {
   "cell_type": "markdown",
   "metadata": {
    "nbgrader": {
     "grade": false,
     "grade_id": "q2g-intro",
     "locked": true,
     "schema_version": 1,
     "solution": false
    }
   },
   "source": [
    "## #2G Ejection Fraction and Age"
   ]
  },
  {
   "cell_type": "code",
   "execution_count": 20,
   "metadata": {
    "nbgrader": {
     "grade": false,
     "grade_id": "q2g-solution",
     "locked": false,
     "schema_version": 1,
     "solution": true
    }
   },
   "outputs": [],
   "source": [
    "import json\n",
    "\n",
    "def ef_age(ef, age, config_file):\n",
    "    \"\"\" int, int, str -> int\n",
    "    ef: The ejection fraction for this subject\n",
    "    age: The age for this subject\n",
    "    config_file: The name of a configuration file to use for scoring the ef/age combination\n",
    "\n",
    "    You'll note in the MAGGIC rules that this score depends on both the ejection fraction range\n",
    "    and the subject's age.  Your code will need to the combination of \n",
    "    values to find the right score.  There are three ejection fraction ranges\n",
    "    and seven age ranges.\n",
    "    \"\"\"\n",
    "    \n",
    "    score = 0\n",
    "    \n",
    "    ### BEGIN SOLUTION\n",
    "    \n",
    "    config = json.load(open(config_file))\n",
    "    rules = config.get(\"ef_bp_and_age\")\n",
    "    age_rules = {}\n",
    "    \n",
    "    for ef_rule in rules:\n",
    "        if ef >= ef_rule.get('min') and ef < ef_rule.get('max'):\n",
    "            age_rules = ef_rule.get('age')\n",
    "\n",
    "    for age_rule in age_rules:\n",
    "        if age >= age_rule.get('min') and age < age_rule.get('max'):\n",
    "            score = age_rule.get('points')\n",
    "    \n",
    "    ### END SOLUTION\n",
    "\n",
    "    return score\n"
   ]
  },
  {
   "cell_type": "code",
   "execution_count": 21,
   "metadata": {},
   "outputs": [],
   "source": [
    "# Put the name of your configuration file below\n",
    "EF_AGE_CONFIG_FILE = \"maggic.json\""
   ]
  },
  {
   "cell_type": "code",
   "execution_count": 22,
   "metadata": {
    "nbgrader": {
     "grade": true,
     "grade_id": "q2g-tests",
     "locked": true,
     "points": 15,
     "schema_version": 1,
     "solution": false
    }
   },
   "outputs": [],
   "source": [
    "assert(ef_age(20,30,EF_AGE_CONFIG_FILE)==0)\n",
    "assert(ef_age(25,45,EF_AGE_CONFIG_FILE)==0)\n",
    "assert(ef_age(21,57,EF_AGE_CONFIG_FILE)==1)\n",
    "assert(ef_age(29,62,EF_AGE_CONFIG_FILE)==2)\n",
    "assert(ef_age(20,67,EF_AGE_CONFIG_FILE)==4)\n",
    "assert(ef_age(20,73,EF_AGE_CONFIG_FILE)==6)\n",
    "assert(ef_age(20,75,EF_AGE_CONFIG_FILE)==8)\n",
    "assert(ef_age(20,80,EF_AGE_CONFIG_FILE)==10)\n",
    "\n",
    "assert(ef_age(30,30,EF_AGE_CONFIG_FILE)==0)\n",
    "assert(ef_age(35,45,EF_AGE_CONFIG_FILE)==0)\n",
    "assert(ef_age(31,57,EF_AGE_CONFIG_FILE)==2)\n",
    "assert(ef_age(39,62,EF_AGE_CONFIG_FILE)==4)\n",
    "assert(ef_age(30,67,EF_AGE_CONFIG_FILE)==6)\n",
    "assert(ef_age(30,73,EF_AGE_CONFIG_FILE)==8)\n",
    "assert(ef_age(30,75,EF_AGE_CONFIG_FILE)==10)\n",
    "assert(ef_age(30,80,EF_AGE_CONFIG_FILE)==13)\n",
    "\n",
    "assert(ef_age(40,30,EF_AGE_CONFIG_FILE)==0)\n",
    "assert(ef_age(45,45,EF_AGE_CONFIG_FILE)==0)\n",
    "assert(ef_age(41,57,EF_AGE_CONFIG_FILE)==3)\n",
    "assert(ef_age(49,62,EF_AGE_CONFIG_FILE)==5)\n",
    "assert(ef_age(40,67,EF_AGE_CONFIG_FILE)==7)\n",
    "assert(ef_age(40,73,EF_AGE_CONFIG_FILE)==9)\n",
    "assert(ef_age(40,75,EF_AGE_CONFIG_FILE)==12)\n",
    "assert(ef_age(40,80,EF_AGE_CONFIG_FILE)==15)\n"
   ]
  },
  {
   "cell_type": "markdown",
   "metadata": {
    "nbgrader": {
     "grade": false,
     "grade_id": "q3-inro",
     "locked": true,
     "schema_version": 1,
     "solution": false
    }
   },
   "source": [
    "# #3 MAGGIC_Score() Function\n",
    "\n",
    "Now, we need to write a MAGGIC Score function that can calculate the score using the JSON configured rules you built in steps 1 and 2, given values for each of the following parameters:\n",
    "* risk_factors - list of strings like \"Male\" and \"Smoker\"\n",
    "* ejection_fraction - numeric value of ejection fraction\n",
    "* nyha_class - the NYHA value\n",
    "* creatinine - the creatinine level value\n",
    "* bmi - the patient BMI\n",
    "* systolic_bp - patient's systolic blood pressure\n",
    "* age - the patient's age\n"
   ]
  },
  {
   "cell_type": "code",
   "execution_count": 23,
   "metadata": {
    "nbgrader": {
     "grade": false,
     "grade_id": "q3-solution",
     "locked": false,
     "schema_version": 1,
     "solution": true
    }
   },
   "outputs": [],
   "source": [
    "def maggic_score(risk_factors, ejection_fraction, nhya_class, creatinine, bmi, systolic_bp, age):\n",
    "    score = 0\n",
    "    \n",
    "    # NOTE: this function definition doesn't take the config_file name as one of the parameters.\n",
    "    # I left it this way because it was up to you to decide if you wanted one config file\n",
    "    # or one config file per set of rules.  Put the configuraiton file name(s) into your \n",
    "    # code below as needed.\n",
    "    \n",
    "    # BEGIN SOLUTION\n",
    "    \n",
    "    config_file = \"maggic.json\"\n",
    "    score += risk_factors_score(risk_factors, config_file)\n",
    "    score += ejection_fraction_score(ejection_fraction, config_file)\n",
    "    score += nhya_class_score(nhya_class, config_file)\n",
    "    score += creatinine_level_score(creatinine, config_file)\n",
    "    score += bmi_score(bmi, config_file)\n",
    "    score += ef_bp(ejection_fraction, systolic_bp, config_file)\n",
    "    score += ef_age(ejection_fraction, age, config_file)\n",
    "\n",
    "#     print(risk_factors_score(risk_factors, config_file))\n",
    "#     print(ejection_fraction_score(ejection_fraction, config_file))\n",
    "#     print(nhya_class, nhya_class_score(nhya_class, config_file))\n",
    "#     print(creatinine_level_score(creatinine, config_file))\n",
    "#     print(bmi_score(bmi, config_file))\n",
    "#     print(ef_bp(ejection_fraction, systolic_bp, config_file))\n",
    "#     print(ef_age(ejection_fraction, age, config_file))\n",
    "\n",
    "    \n",
    "    # END SOLUTION\n",
    "    \n",
    "    return score"
   ]
  },
  {
   "cell_type": "code",
   "execution_count": 24,
   "metadata": {},
   "outputs": [],
   "source": [
    "import requests\n",
    "import json\n",
    "\n",
    "url = 'https://hds5210-2020.s3.amazonaws.com/test_subjects.json'\n",
    "\n",
    "rsp = requests.get(url)\n",
    "subjects = json.loads(rsp.text)"
   ]
  },
  {
   "cell_type": "code",
   "execution_count": 25,
   "metadata": {
    "nbgrader": {
     "grade": true,
     "grade_id": "q3-tests",
     "locked": true,
     "points": 20,
     "schema_version": 1,
     "solution": false
    }
   },
   "outputs": [
    {
     "name": "stdout",
     "output_type": "stream",
     "text": [
      "Got a score of 20, should have been 20\n"
     ]
    }
   ],
   "source": [
    "import json\n",
    "import requests\n",
    "\n",
    "# I've provided a test file at https://hds5210-2020.s3.amazonaws.com/test_subjects.json\n",
    "# I'll be using the test cases in there for grading this final function\n",
    "# If your tests above all worked for the provided test cases, then this should work fine, too.\n",
    "# There's only one test case provided right now.  I'll add many more for the final scoring.\n",
    "\n",
    "\n",
    "for subject in subjects:\n",
    "    rf = subject.get('risks')\n",
    "    ef = subject.get('ef')\n",
    "    nhya = subject.get('nhya')\n",
    "    creatinine = subject.get('creatinine')\n",
    "    bmi = subject.get('bmi')\n",
    "    bp = subject.get('bp')\n",
    "    age = subject.get('age')\n",
    "    maggic = subject.get('maggic')\n",
    "    score = maggic_score(rf, ef, nhya, creatinine, bmi, bp, age)\n",
    "    print(\"Got a score of {}, should have been {}\".format(score, maggic))\n",
    "    assert(score == maggic)"
   ]
  },
  {
   "cell_type": "code",
   "execution_count": null,
   "metadata": {},
   "outputs": [],
   "source": []
  }
 ],
 "metadata": {
  "celltoolbar": "Create Assignment",
  "kernelspec": {
   "display_name": "Python 3",
   "language": "python",
   "name": "python3"
  },
  "language_info": {
   "codemirror_mode": {
    "name": "ipython",
    "version": 3
   },
   "file_extension": ".py",
   "mimetype": "text/x-python",
   "name": "python",
   "nbconvert_exporter": "python",
   "pygments_lexer": "ipython3",
   "version": "3.6.7"
  }
 },
 "nbformat": 4,
 "nbformat_minor": 2
}
