{
 "cells": [
  {
   "cell_type": "code",
   "execution_count": 1,
   "metadata": {},
   "outputs": [],
   "source": [
    "import pandas as pd"
   ]
  },
  {
   "cell_type": "code",
   "execution_count": 9,
   "metadata": {},
   "outputs": [],
   "source": [
    "import requests\n",
    "import urllib.request\n",
    "import time\n",
    "from bs4 import BeautifulSoup"
   ]
  },
  {
   "cell_type": "code",
   "execution_count": 10,
   "metadata": {},
   "outputs": [],
   "source": [
    "CORONA_COUNTS = 'corona_counts'\n",
    "LOCATION_INFO = 'https://coronadatascraper.com/locations.json'\n",
    "CENSUS_INFO = 'https://en.wikipedia.org/wiki/List_of_counties_in_Missouri'"
   ]
  },
  {
   "cell_type": "code",
   "execution_count": 11,
   "metadata": {},
   "outputs": [],
   "source": [
    "census = requests.get(CENSUS_INFO)"
   ]
  },
  {
   "cell_type": "code",
   "execution_count": 13,
   "metadata": {},
   "outputs": [],
   "source": [
    "soup = BeautifulSoup(census.text, 'html.parser')"
   ]
  },
  {
   "cell_type": "code",
   "execution_count": 16,
   "metadata": {},
   "outputs": [],
   "source": [
    "census_table = soup.select_one('table:contains(\"FIPS\")')"
   ]
  },
  {
   "cell_type": "code",
   "execution_count": 17,
   "metadata": {},
   "outputs": [],
   "source": [
    "census_info = pd.read_html(str(census_table))"
   ]
  },
  {
   "cell_type": "code",
   "execution_count": 18,
   "metadata": {},
   "outputs": [
    {
     "data": {
      "text/plain": [
       "list"
      ]
     },
     "execution_count": 18,
     "metadata": {},
     "output_type": "execute_result"
    }
   ],
   "source": [
    "type(census_info)"
   ]
  },
  {
   "cell_type": "code",
   "execution_count": 19,
   "metadata": {},
   "outputs": [
    {
     "data": {
      "text/plain": [
       "[                County  FIPS code[7] County seat[8]  Est.[8]  \\\n",
       " 0         Adair County             1     Kirksville     1841   \n",
       " 1        Andrew County             3       Savannah     1841   \n",
       " 2      Atchison County             5      Rock Port     1843   \n",
       " 3       Audrain County             7         Mexico     1831   \n",
       " 4         Barry County             9      Cassville     1835   \n",
       " ..                 ...           ...            ...      ...   \n",
       " 110  Washington County           221         Potosi     1813   \n",
       " 111       Wayne County           223     Greenville     1818   \n",
       " 112     Webster County           225     Marshfield     1855   \n",
       " 113       Worth County           227     Grant City     1861   \n",
       " 114      Wright County           229      Hartville     1841   \n",
       " \n",
       "                                Formed from[3]  \\\n",
       " 0                                Macon County   \n",
       " 1                 Part of the Platte Purchase   \n",
       " 2    Holt County, part of the Platte Purchase   \n",
       " 3         Callaway, Monroe and Ralls counties   \n",
       " 4                               Greene County   \n",
       " ..                                        ...   \n",
       " 110                   Sainte Genevieve County   \n",
       " 111      Cape Girardeau and Lawrence counties   \n",
       " 112                             Greene County   \n",
       " 113                             Gentry County   \n",
       " 114                            Pulaski County   \n",
       " \n",
       "                                    Etymology[3][9][10]  Population[6]  \\\n",
       " 0    John Adair (1757–1840), pioneer, soldier, and ...          25607   \n",
       " 1    Andrew Jackson Davis (1826–1910), spiritualist...          17291   \n",
       " 2    U.S. Senator David Rice Atchison (1807–1886), ...           5685   \n",
       " 3    James H. Audrain, a War of 1812 colonel Missou...          25529   \n",
       " 4    William Taylor Barry (1784–1835), jurist and U...          35597   \n",
       " ..                                                 ...            ...   \n",
       " 110  George Washington (1732–1799), commander of th...          25195   \n",
       " 111  Anthony Wayne (1745–1796), United States Army ...          13521   \n",
       " 112  Daniel Webster (1782–1852), U.S. Secretary of ...          36202   \n",
       " 113  William J. Worth (1794–1849), a United States ...           2171   \n",
       " 114  Silas Wright (1795–1847), an American Democrat...          18815   \n",
       " \n",
       "                   Area[8]  Map  \n",
       " 0    568 sq mi(1,471 km2)  NaN  \n",
       " 1    435 sq mi(1,127 km2)  NaN  \n",
       " 2    545 sq mi(1,412 km2)  NaN  \n",
       " 3    693 sq mi(1,795 km2)  NaN  \n",
       " 4    779 sq mi(2,018 km2)  NaN  \n",
       " ..                    ...  ...  \n",
       " 110  760 sq mi(1,968 km2)  NaN  \n",
       " 111  761 sq mi(1,971 km2)  NaN  \n",
       " 112  593 sq mi(1,536 km2)  NaN  \n",
       " 113    266 sq mi(689 km2)  NaN  \n",
       " 114  682 sq mi(1,766 km2)  NaN  \n",
       " \n",
       " [115 rows x 9 columns]]"
      ]
     },
     "execution_count": 19,
     "metadata": {},
     "output_type": "execute_result"
    }
   ],
   "source": [
    "census_info"
   ]
  },
  {
   "cell_type": "code",
   "execution_count": null,
   "metadata": {},
   "outputs": [],
   "source": []
  }
 ],
 "metadata": {
  "kernelspec": {
   "display_name": "Python 3",
   "language": "python",
   "name": "python3"
  },
  "language_info": {
   "codemirror_mode": {
    "name": "ipython",
    "version": 3
   },
   "file_extension": ".py",
   "mimetype": "text/x-python",
   "name": "python",
   "nbconvert_exporter": "python",
   "pygments_lexer": "ipython3",
   "version": "3.6.7"
  }
 },
 "nbformat": 4,
 "nbformat_minor": 4
}
