{
 "cells": [
  {
   "cell_type": "code",
   "execution_count": 1,
   "metadata": {},
   "outputs": [
    {
     "name": "stderr",
     "output_type": "stream",
     "text": [
      "/usr/local/lib64/python3.7/site-packages/pymongo/common.py:635: UserWarning: Unknown option sslAllowInvalidHostnames\n",
      "  warnings.warn(str(exc))\n"
     ]
    }
   ],
   "source": [
    "# Below are database connections and imports that you can use for the final.\n",
    "\n",
    "import pandas as pd\n",
    "import pymongo\n",
    "import sys\n",
    "\n",
    "# DocumentDB setup.  At the end of this, you'll a variable RX_RULES refering to a collection of rules that you can query\n",
    "user = 'slucor2019'\n",
    "password = 'SLUcor2019'\n",
    "client = pymongo.MongoClient('mongodb://' + \n",
    "     user + ':' + \n",
    "     password + \n",
    "     '@slucor-2019.cgdcoitnku0k.us-east-1.docdb.amazonaws.com:27017/?ssl=true&sslAllowInvalidHostnames=true&ssl_ca_certs=/pem/rds-combined-ca-bundle.pem'\n",
    ")\n",
    "\n",
    "db = client.test\n",
    "RX_RULES = db['rx_rules']\n",
    "\n",
    "# MySQL Database Connection.  At the end of this, you'll have a connection in a variable called DB_CONN\n",
    "# Then, this code will automatically setup your \n",
    "from sqlalchemy import create_engine\n",
    "import pandas as pd\n",
    "\n",
    "host = 'slucor2019.cgdcoitnku0k.us-east-1.rds.amazonaws.com'\n",
    "port = '3306'\n",
    "user = 'slucor2019'\n",
    "password = 'SLUcor2019'\n",
    "database = 'slucor2019'\n",
    "\n",
    "DB_CONN = create_engine('mysql://' + \n",
    "                     user + ':' + \n",
    "                     password + '@' + \n",
    "                     host + ':' + \n",
    "                     str(port) + '/' + \n",
    "                     database)\n"
   ]
  },
  {
   "cell_type": "code",
   "execution_count": 2,
   "metadata": {},
   "outputs": [],
   "source": [
    "def total_cost(ingredient_cost, new_or_refill_code, category):\n",
    "   rule = list(RX_RULES.find({'_id': new_or_refill_code }))[0]\n",
    "   cat_discount = rule['category_discount']\n",
    "   ad_fee = rule['admin_fee']\n",
    "   for category in discount:\n",
    "       if categories == category:\n",
    "           discounting = cat_discount[categories]\n",
    "   final= ingredient_cost * discounting + ad_fee\n",
    "   return total_cost"
   ]
  },
  {
   "cell_type": "code",
   "execution_count": 3,
   "metadata": {},
   "outputs": [
    {
     "ename": "NameError",
     "evalue": "name 'discount' is not defined",
     "output_type": "error",
     "traceback": [
      "\u001b[0;31m---------------------------------------------------------------------------\u001b[0m",
      "\u001b[0;31mNameError\u001b[0m                                 Traceback (most recent call last)",
      "\u001b[0;32m<ipython-input-3-86b32c6ad6d2>\u001b[0m in \u001b[0;36m<module>\u001b[0;34m\u001b[0m\n\u001b[0;32m----> 1\u001b[0;31m \u001b[0mtotal_cost\u001b[0m\u001b[0;34m(\u001b[0m\u001b[0;36m1\u001b[0m\u001b[0;34m,\u001b[0m \u001b[0;34m'N'\u001b[0m\u001b[0;34m,\u001b[0m \u001b[0;34m'cancer'\u001b[0m\u001b[0;34m)\u001b[0m\u001b[0;34m\u001b[0m\u001b[0;34m\u001b[0m\u001b[0m\n\u001b[0m",
      "\u001b[0;32m<ipython-input-2-cb1201f839e1>\u001b[0m in \u001b[0;36mtotal_cost\u001b[0;34m(ingredient_cost, new_or_refill_code, category)\u001b[0m\n\u001b[1;32m      3\u001b[0m    \u001b[0mcat_discount\u001b[0m \u001b[0;34m=\u001b[0m \u001b[0mrule\u001b[0m\u001b[0;34m[\u001b[0m\u001b[0;34m'category_discount'\u001b[0m\u001b[0;34m]\u001b[0m\u001b[0;34m\u001b[0m\u001b[0;34m\u001b[0m\u001b[0m\n\u001b[1;32m      4\u001b[0m    \u001b[0mad_fee\u001b[0m \u001b[0;34m=\u001b[0m \u001b[0mrule\u001b[0m\u001b[0;34m[\u001b[0m\u001b[0;34m'admin_fee'\u001b[0m\u001b[0;34m]\u001b[0m\u001b[0;34m\u001b[0m\u001b[0;34m\u001b[0m\u001b[0m\n\u001b[0;32m----> 5\u001b[0;31m    \u001b[0;32mfor\u001b[0m \u001b[0mcategory\u001b[0m \u001b[0;32min\u001b[0m \u001b[0mdiscount\u001b[0m\u001b[0;34m:\u001b[0m\u001b[0;34m\u001b[0m\u001b[0;34m\u001b[0m\u001b[0m\n\u001b[0m\u001b[1;32m      6\u001b[0m        \u001b[0;32mif\u001b[0m \u001b[0mcategories\u001b[0m \u001b[0;34m==\u001b[0m \u001b[0mcategory\u001b[0m\u001b[0;34m:\u001b[0m\u001b[0;34m\u001b[0m\u001b[0;34m\u001b[0m\u001b[0m\n\u001b[1;32m      7\u001b[0m            \u001b[0mdiscounting\u001b[0m \u001b[0;34m=\u001b[0m \u001b[0mcat_discount\u001b[0m\u001b[0;34m[\u001b[0m\u001b[0mcategories\u001b[0m\u001b[0;34m]\u001b[0m\u001b[0;34m\u001b[0m\u001b[0;34m\u001b[0m\u001b[0m\n",
      "\u001b[0;31mNameError\u001b[0m: name 'discount' is not defined"
     ]
    }
   ],
   "source": [
    "total_cost(1, 'N', 'cancer')"
   ]
  },
  {
   "cell_type": "code",
   "execution_count": null,
   "metadata": {},
   "outputs": [],
   "source": []
  }
 ],
 "metadata": {
  "kernelspec": {
   "display_name": "Python 3",
   "language": "python",
   "name": "python3"
  },
  "language_info": {
   "codemirror_mode": {
    "name": "ipython",
    "version": 3
   },
   "file_extension": ".py",
   "mimetype": "text/x-python",
   "name": "python",
   "nbconvert_exporter": "python",
   "pygments_lexer": "ipython3",
   "version": "3.7.2"
  }
 },
 "nbformat": 4,
 "nbformat_minor": 2
}
