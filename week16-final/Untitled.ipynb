{
 "cells": [
  {
   "cell_type": "code",
   "execution_count": 7,
   "metadata": {},
   "outputs": [],
   "source": [
    "# Below are database connections and imports that you can use for the final.\n",
    "\n",
    "import pandas as pd\n",
    "import pymongo\n",
    "import sys\n",
    "\n",
    "# DocumentDB setup.  At the end of this, you'll a variable RX_RULES refering to a collection of rules that you can query\n",
    "user = 'slucor2019'\n",
    "password = 'SLUcor2019'\n",
    "client = pymongo.MongoClient('mongodb://' + \n",
    "     user + ':' + \n",
    "     password + \n",
    "     '@slucor-2019.cgdcoitnku0k.us-east-1.docdb.amazonaws.com:27017/?ssl=true&sslAllowInvalidHostnames=true&ssl_ca_certs=/pem/rds-combined-ca-bundle.pem'\n",
    ")\n",
    "\n",
    "db = client.test\n",
    "RX_RULES = db['rx_rules']\n",
    "\n",
    "# MySQL Database Connection.  At the end of this, you'll have a connection in a variable called DB_CONN\n",
    "# Then, this code will automatically setup your \n",
    "from sqlalchemy import create_engine\n",
    "import pandas as pd\n",
    "\n",
    "host = 'slucor2019.cgdcoitnku0k.us-east-1.rds.amazonaws.com'\n",
    "port = '3306'\n",
    "user = 'slucor2019'\n",
    "password = 'SLUcor2019'\n",
    "database = 'slucor2019'\n",
    "\n",
    "DB_CONN = create_engine('mysql://' + \n",
    "                     user + ':' + \n",
    "                     password + '@' + \n",
    "                     host + ':' + \n",
    "                     str(port) + '/' + \n",
    "                     database)\n"
   ]
  },
  {
   "cell_type": "code",
   "execution_count": 16,
   "metadata": {},
   "outputs": [],
   "source": [
    "def total_cost(ingredient_cost, new_or_refill_code, category):\n",
    "    rule = list(RX_RULES.find({}))\n",
    "    \n",
    "    for r in rule:\n",
    "        if new_or_refill_code == r['_id']:\n",
    "            admin = r.get('admin_fee')\n",
    "            print(r['category_discount'].get(category))"
   ]
  },
  {
   "cell_type": "code",
   "execution_count": 17,
   "metadata": {},
   "outputs": [
    {
     "name": "stdout",
     "output_type": "stream",
     "text": [
      "0.5\n"
     ]
    }
   ],
   "source": [
    "total_cost(1, 'N', 'cancer')"
   ]
  },
  {
   "cell_type": "code",
   "execution_count": null,
   "metadata": {},
   "outputs": [],
   "source": []
  }
 ],
 "metadata": {
  "kernelspec": {
   "display_name": "Python 3",
   "language": "python",
   "name": "python3"
  },
  "language_info": {
   "codemirror_mode": {
    "name": "ipython",
    "version": 3
   },
   "file_extension": ".py",
   "mimetype": "text/x-python",
   "name": "python",
   "nbconvert_exporter": "python",
   "pygments_lexer": "ipython3",
   "version": "3.7.2"
  }
 },
 "nbformat": 4,
 "nbformat_minor": 2
}
