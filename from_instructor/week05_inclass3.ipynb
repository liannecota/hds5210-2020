{
 "cells": [
  {
   "cell_type": "code",
   "execution_count": 16,
   "metadata": {},
   "outputs": [],
   "source": [
    "def f_to_c(temp_f):\n",
    "    \"\"\" (float) -> float\n",
    "    This function converts temperature in Farenheit to Celsius using the formula\n",
    "    temp_c = (temp_f - 32) * 5/9\n",
    "    \n",
    "    >>> f_to_c(212)\n",
    "    100.0\n",
    "    \n",
    "    >>> f_to_c(32)\n",
    "    0.0\n",
    "    \n",
    "    >>> round(f_to_c(98.6),0)\n",
    "    37.0\n",
    "    \"\"\"\n",
    "    \n",
    "    temp_c = (temp_f -32 ) * 5/9\n",
    "    return temp_c"
   ]
  },
  {
   "cell_type": "code",
   "execution_count": 17,
   "metadata": {},
   "outputs": [
    {
     "name": "stdout",
     "output_type": "stream",
     "text": [
      "Help on function f_to_c in module __main__:\n",
      "\n",
      "f_to_c(temp_f)\n",
      "    (float) -> float\n",
      "    This function converts temperature in Farenheit to Celsius using the formula\n",
      "    temp_c = (temp_f - 32) * 5/9\n",
      "    \n",
      "    >>> f_to_c(212)\n",
      "    100.0\n",
      "    \n",
      "    >>> f_to_c(32)\n",
      "    0.0\n",
      "    \n",
      "    >>> round(f_to_c(98.6),0)\n",
      "    37.0\n",
      "\n"
     ]
    }
   ],
   "source": [
    "help(f_to_c)"
   ]
  },
  {
   "cell_type": "code",
   "execution_count": 18,
   "metadata": {},
   "outputs": [],
   "source": [
    "import doctest"
   ]
  },
  {
   "cell_type": "code",
   "execution_count": 19,
   "metadata": {},
   "outputs": [
    {
     "name": "stdout",
     "output_type": "stream",
     "text": [
      "Finding tests in NoName\n",
      "Trying:\n",
      "    f_to_c(212)\n",
      "Expecting:\n",
      "    100.0\n",
      "ok\n",
      "Trying:\n",
      "    f_to_c(32)\n",
      "Expecting:\n",
      "    0.0\n",
      "ok\n",
      "Trying:\n",
      "    round(f_to_c(98.6),0)\n",
      "Expecting:\n",
      "    37.0\n",
      "ok\n"
     ]
    }
   ],
   "source": [
    "doctest.run_docstring_examples(f_to_c, globals(), verbose=True)"
   ]
  },
  {
   "cell_type": "code",
   "execution_count": null,
   "metadata": {},
   "outputs": [],
   "source": []
  }
 ],
 "metadata": {
  "kernelspec": {
   "display_name": "Python 3",
   "language": "python",
   "name": "python3"
  },
  "language_info": {
   "codemirror_mode": {
    "name": "ipython",
    "version": 3
   },
   "file_extension": ".py",
   "mimetype": "text/x-python",
   "name": "python",
   "nbconvert_exporter": "python",
   "pygments_lexer": "ipython3",
   "version": "3.6.7"
  }
 },
 "nbformat": 4,
 "nbformat_minor": 4
}
