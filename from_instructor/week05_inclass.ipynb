{
 "cells": [
  {
   "cell_type": "code",
   "execution_count": 1,
   "metadata": {},
   "outputs": [],
   "source": [
    "def f_to_c (temp_f):\n",
    "    celsius = (temp_f - 32) * 5/9\n",
    "    return celsius"
   ]
  },
  {
   "cell_type": "code",
   "execution_count": 3,
   "metadata": {},
   "outputs": [
    {
     "data": {
      "text/plain": [
       "38.27777777777778"
      ]
     },
     "execution_count": 3,
     "metadata": {},
     "output_type": "execute_result"
    }
   ],
   "source": [
    "f_to_c(100.9)"
   ]
  },
  {
   "cell_type": "code",
   "execution_count": 4,
   "metadata": {},
   "outputs": [
    {
     "ename": "NameError",
     "evalue": "name 'celsius' is not defined",
     "output_type": "error",
     "traceback": [
      "\u001b[0;31m---------------------------------------------------------------------------\u001b[0m",
      "\u001b[0;31mNameError\u001b[0m                                 Traceback (most recent call last)",
      "\u001b[0;32m<ipython-input-4-ec75a60f72a1>\u001b[0m in \u001b[0;36m<module>\u001b[0;34m\u001b[0m\n\u001b[0;32m----> 1\u001b[0;31m \u001b[0mcelsius\u001b[0m\u001b[0;34m\u001b[0m\u001b[0;34m\u001b[0m\u001b[0m\n\u001b[0m",
      "\u001b[0;31mNameError\u001b[0m: name 'celsius' is not defined"
     ]
    }
   ],
   "source": [
    "celsius"
   ]
  },
  {
   "cell_type": "code",
   "execution_count": null,
   "metadata": {},
   "outputs": [],
   "source": []
  },
  {
   "cell_type": "code",
   "execution_count": null,
   "metadata": {},
   "outputs": [],
   "source": []
  },
  {
   "cell_type": "code",
   "execution_count": 31,
   "metadata": {},
   "outputs": [],
   "source": [
    "from datetime import date\n",
    "\n",
    "my_encounters = [\n",
    "    { \"id\": \"E1234\", \"admit\": date(2019,1,3), \"diagnosis\": \"COPD\", \"discharge\": date(2019,1,8) },\n",
    "    { \"id\": \"E8342\", \"admit\": date(2019,1,5), \"diagnosis\": \"Hypertension\", \"discharge\": date(2019,1,9) },\n",
    "    { \"id\": \"E9231\", \"admit\": date(2019,1,12), \"diagnosis\": \"Anxiety\", \"discharge\": date(2019,1,13) },\n",
    "    { \"id\": \"E8333\", \"admit\": date(2019,1,15), \"diagnosis\": \"Observation\", \"discharge\": date(2019,1,16) },\n",
    "    { \"id\": \"E3342\", \"admit\": date(2019,1,4), \"diagnosis\": \"Anxiety\", \"discharge\": date(2019,1,4)}\n",
    "] "
   ]
  },
  {
   "cell_type": "code",
   "execution_count": 32,
   "metadata": {},
   "outputs": [],
   "source": [
    "def los(admit, discharge, diagnosis=\"\"):\n",
    "    \"\"\"(date, date, str) -> int\n",
    "    Compute the number of whole days between the admit and dhscharge dates.\n",
    "    If the optional diagnosis parameters is 'Observation' then the length of stay will be zero.\n",
    "    \n",
    "    >>> los(date(2019,1,1), date(2019,1,6))\n",
    "    5\n",
    "    \n",
    "    >>> los(date(2019,1,1), date(2019,1,6), \"Observation\")\n",
    "    0\n",
    "    \"\"\"\n",
    "    \n",
    "    if diagnosis == \"Observation\":\n",
    "        return 0\n",
    "    else:\n",
    "        return (discharge - admit).days\n",
    "    "
   ]
  },
  {
   "cell_type": "code",
   "execution_count": 33,
   "metadata": {},
   "outputs": [
    {
     "name": "stdout",
     "output_type": "stream",
     "text": [
      "Finding tests in NoName\n",
      "Trying:\n",
      "    los(date(2019,1,1), date(2019,1,6))\n",
      "Expecting:\n",
      "    5\n",
      "ok\n",
      "Trying:\n",
      "    los(date(2019,1,1), date(2019,1,6), \"Observation\")\n",
      "Expecting:\n",
      "    0\n",
      "ok\n"
     ]
    }
   ],
   "source": [
    "import doctest\n",
    "doctest.run_docstring_examples(los, globals(), verbose=True)"
   ]
  },
  {
   "cell_type": "code",
   "execution_count": 42,
   "metadata": {},
   "outputs": [],
   "source": [
    "def average_los(encounters):\n",
    "    \"\"\"(list) -> float\n",
    "    Returns the average of the LOS for the encounters in the provided list.\n",
    "    The encounters must b a list of dictionaries that each contain at least an admit date\n",
    "    and a discharge date.\n",
    "    \n",
    "    If the length of stay of any individual encounter is 0, then it will not be counted\n",
    "    toward the average.\n",
    "    \"\"\"\n",
    "    \n",
    "    total_los = 0\n",
    "    total_encounters = len(encounters)\n",
    "    \n",
    "    for enc in encounters:\n",
    "        enc_los = los(enc['admit'], enc['discharge'], enc['diagnosis'])\n",
    "        if enc_los != 0:\n",
    "            total_los += enc_los\n",
    "        else:\n",
    "            total_encounters -= 1\n",
    "\n",
    "    if total_encounters == 0:\n",
    "        return 0\n",
    "    \n",
    "    return total_los / total_encounters"
   ]
  },
  {
   "cell_type": "code",
   "execution_count": 43,
   "metadata": {},
   "outputs": [
    {
     "data": {
      "text/plain": [
       "3.3333333333333335"
      ]
     },
     "execution_count": 43,
     "metadata": {},
     "output_type": "execute_result"
    }
   ],
   "source": [
    "average_los(my_encounters)"
   ]
  },
  {
   "cell_type": "markdown",
   "metadata": {},
   "source": [
    "``` \n",
    "\n",
    "\n",
    "\n",
    "\n",
    "\n",
    "\n",
    "\n",
    "\n",
    "\n",
    "\n",
    "\n",
    "\n",
    "\n",
    "\n",
    "\n",
    "\n",
    "\n",
    "\n",
    "\n",
    "\n",
    "\n",
    "\n",
    "\n",
    "\n",
    "\n",
    "\n",
    "\n",
    "\n",
    "\n",
    "\n",
    "\n",
    "\n",
    "\n",
    "\n",
    "\n",
    "\n",
    "\n",
    "```"
   ]
  },
  {
   "cell_type": "code",
   "execution_count": 44,
   "metadata": {},
   "outputs": [],
   "source": [
    "def bmi(weight_kg, height_cm):\n",
    "    \n",
    "    # 1. Change the names of parameter1 and parameter2 to be something more meaningful\n",
    "    # 2. Change the name of the return variable below\n",
    "    \n",
    "    ### BEGIN SOLUTION\n",
    "    bmi_value = weight_kg / ((height_cm/100) ** 2)\n",
    "    ### END SOLUTION\n",
    "    \n",
    "    return bmi_value"
   ]
  },
  {
   "cell_type": "code",
   "execution_count": 57,
   "metadata": {},
   "outputs": [],
   "source": [
    "def lose_weight(weight, height, kg_per_week, target_bmi):\n",
    "    \n",
    "    # Note that the variables you need area already named for you:\n",
    "    # height is the height in cm\n",
    "    # weight is the weight in kg\n",
    "    # kg_per_week is how much the person wants to lose per week\n",
    "    # target_bmi is the intended target bmi\n",
    "    \n",
    "    ### BEGIN SOLUTION\n",
    "    \n",
    "    current_bmi = bmi(weight, height)\n",
    "    if current_bmi <= target_bmi:\n",
    "        raise ValueError(\"Current BMI {} is less than target BMI {}\".format(current_bmi, target_bmi))\n",
    "    \n",
    "    height_m = height / 100\n",
    "    target_kg = target_bmi * (height_m ** 2)\n",
    "    weeks = (weight - target_kg) / kg_per_week\n",
    "    days = weeks * 7\n",
    "    ### END SOLUTION\n",
    "    \n",
    "    return days"
   ]
  },
  {
   "cell_type": "code",
   "execution_count": 58,
   "metadata": {},
   "outputs": [
    {
     "ename": "ValueError",
     "evalue": "Current BMI 26.846358291497758 is less than target BMI 28",
     "output_type": "error",
     "traceback": [
      "\u001b[0;31m---------------------------------------------------------------------------\u001b[0m",
      "\u001b[0;31mValueError\u001b[0m                                Traceback (most recent call last)",
      "\u001b[0;32m<ipython-input-58-a217bf8c530f>\u001b[0m in \u001b[0;36m<module>\u001b[0;34m\u001b[0m\n\u001b[0;32m----> 1\u001b[0;31m \u001b[0mlose_weight\u001b[0m\u001b[0;34m(\u001b[0m\u001b[0;36m100\u001b[0m\u001b[0;34m,\u001b[0m \u001b[0;36m193\u001b[0m\u001b[0;34m,\u001b[0m \u001b[0;36m0.75\u001b[0m\u001b[0;34m,\u001b[0m \u001b[0;36m28\u001b[0m\u001b[0;34m)\u001b[0m\u001b[0;34m\u001b[0m\u001b[0;34m\u001b[0m\u001b[0m\n\u001b[0m",
      "\u001b[0;32m<ipython-input-57-8e2740a0a2c7>\u001b[0m in \u001b[0;36mlose_weight\u001b[0;34m(weight, height, kg_per_week, target_bmi)\u001b[0m\n\u001b[1;32m     11\u001b[0m     \u001b[0mcurrent_bmi\u001b[0m \u001b[0;34m=\u001b[0m \u001b[0mbmi\u001b[0m\u001b[0;34m(\u001b[0m\u001b[0mweight\u001b[0m\u001b[0;34m,\u001b[0m \u001b[0mheight\u001b[0m\u001b[0;34m)\u001b[0m\u001b[0;34m\u001b[0m\u001b[0;34m\u001b[0m\u001b[0m\n\u001b[1;32m     12\u001b[0m     \u001b[0;32mif\u001b[0m \u001b[0mcurrent_bmi\u001b[0m \u001b[0;34m<=\u001b[0m \u001b[0mtarget_bmi\u001b[0m\u001b[0;34m:\u001b[0m\u001b[0;34m\u001b[0m\u001b[0;34m\u001b[0m\u001b[0m\n\u001b[0;32m---> 13\u001b[0;31m         \u001b[0;32mraise\u001b[0m \u001b[0mValueError\u001b[0m\u001b[0;34m(\u001b[0m\u001b[0;34m\"Current BMI {} is less than target BMI {}\"\u001b[0m\u001b[0;34m.\u001b[0m\u001b[0mformat\u001b[0m\u001b[0;34m(\u001b[0m\u001b[0mcurrent_bmi\u001b[0m\u001b[0;34m,\u001b[0m \u001b[0mtarget_bmi\u001b[0m\u001b[0;34m)\u001b[0m\u001b[0;34m)\u001b[0m\u001b[0;34m\u001b[0m\u001b[0;34m\u001b[0m\u001b[0m\n\u001b[0m\u001b[1;32m     14\u001b[0m \u001b[0;34m\u001b[0m\u001b[0m\n\u001b[1;32m     15\u001b[0m     \u001b[0mheight_m\u001b[0m \u001b[0;34m=\u001b[0m \u001b[0mheight\u001b[0m \u001b[0;34m/\u001b[0m \u001b[0;36m100\u001b[0m\u001b[0;34m\u001b[0m\u001b[0;34m\u001b[0m\u001b[0m\n",
      "\u001b[0;31mValueError\u001b[0m: Current BMI 26.846358291497758 is less than target BMI 28"
     ]
    }
   ],
   "source": [
    "lose_weight(100, 193, 0.75, 28)"
   ]
  },
  {
   "cell_type": "code",
   "execution_count": null,
   "metadata": {},
   "outputs": [],
   "source": []
  }
 ],
 "metadata": {
  "kernelspec": {
   "display_name": "Python 3",
   "language": "python",
   "name": "python3"
  },
  "language_info": {
   "codemirror_mode": {
    "name": "ipython",
    "version": 3
   },
   "file_extension": ".py",
   "mimetype": "text/x-python",
   "name": "python",
   "nbconvert_exporter": "python",
   "pygments_lexer": "ipython3",
   "version": "3.6.7"
  }
 },
 "nbformat": 4,
 "nbformat_minor": 4
}
