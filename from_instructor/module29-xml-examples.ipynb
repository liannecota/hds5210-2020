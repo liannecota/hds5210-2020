{
 "cells": [
  {
   "cell_type": "markdown",
   "metadata": {},
   "source": [
    "# Reading XML to an object tree"
   ]
  },
  {
   "cell_type": "code",
   "execution_count": null,
   "metadata": {},
   "outputs": [],
   "source": [
    "from lxml import objectify"
   ]
  },
  {
   "cell_type": "code",
   "execution_count": null,
   "metadata": {},
   "outputs": [],
   "source": [
    "path = '/data/patient.xml'\n",
    "with open(path) as f:\n",
    "    xml = objectify.parse(f)\n",
    "\n",
    "patient = xml.getroot()"
   ]
  },
  {
   "cell_type": "code",
   "execution_count": null,
   "metadata": {},
   "outputs": [],
   "source": [
    "type(patient)"
   ]
  },
  {
   "cell_type": "code",
   "execution_count": 4,
   "metadata": {},
   "outputs": [
    {
     "name": "stdout",
     "output_type": "stream",
     "text": [
      "{http://hl7.org/fhir}id : {'value': 'example'}\n",
      "{http://hl7.org/fhir}text : {}\n",
      "comment : {}\n",
      "{http://hl7.org/fhir}identifier : {}\n",
      "{http://hl7.org/fhir}active : {'value': 'true'}\n",
      "comment : {}\n",
      "{http://hl7.org/fhir}name : {}\n",
      "{http://hl7.org/fhir}name : {}\n",
      "{http://hl7.org/fhir}name : {}\n",
      "{http://hl7.org/fhir}telecom : {}\n",
      "{http://hl7.org/fhir}telecom : {}\n",
      "{http://hl7.org/fhir}telecom : {}\n",
      "{http://hl7.org/fhir}telecom : {}\n",
      "comment : {}\n",
      "{http://hl7.org/fhir}gender : {'value': 'male'}\n",
      "{http://hl7.org/fhir}birthDate : {'value': '1974-12-25'}\n",
      "{http://hl7.org/fhir}deceasedBoolean : {'value': 'false'}\n",
      "{http://hl7.org/fhir}address : {}\n",
      "{http://hl7.org/fhir}contact : {}\n",
      "{http://hl7.org/fhir}managingOrganization : {}\n"
     ]
    }
   ],
   "source": [
    "for child in patient.getchildren():\n",
    "    print(child.tag + \" : \" + str(child.attrib))"
   ]
  },
  {
   "cell_type": "code",
   "execution_count": null,
   "metadata": {},
   "outputs": [],
   "source": [
    "%%bash\n",
    "head patient.xml"
   ]
  },
  {
   "cell_type": "markdown",
   "metadata": {},
   "source": [
    "# XPath\n",
    "\n",
    "See https://docs.python.org/2/library/xml.etree.elementtree.html#xpath-support for more on XPath"
   ]
  },
  {
   "cell_type": "code",
   "execution_count": 5,
   "metadata": {},
   "outputs": [
    {
     "name": "stdout",
     "output_type": "stream",
     "text": [
      "Address City: PleasantVille\n"
     ]
    }
   ],
   "source": [
    "ns={\"fhir\": \"http://hl7.org/fhir\"}\n",
    "\n",
    "for address in patient.findall('fhir:address', namespaces=ns):\n",
    "    city = address.find('fhir:city', namespaces=ns)\n",
    "    print(\"Address City: \" + city.attrib.get('value'))"
   ]
  },
  {
   "cell_type": "code",
   "execution_count": null,
   "metadata": {},
   "outputs": [],
   "source": []
  }
 ],
 "metadata": {
  "kernelspec": {
   "display_name": "Python 3",
   "language": "python",
   "name": "python3"
  },
  "language_info": {
   "codemirror_mode": {
    "name": "ipython",
    "version": 3
   },
   "file_extension": ".py",
   "mimetype": "text/x-python",
   "name": "python",
   "nbconvert_exporter": "python",
   "pygments_lexer": "ipython3",
   "version": "3.6.7"
  }
 },
 "nbformat": 4,
 "nbformat_minor": 2
}
