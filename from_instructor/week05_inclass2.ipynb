{
 "cells": [
  {
   "cell_type": "markdown",
   "metadata": {},
   "source": [
    "### Average Length of Stay\n",
    "\n",
    "Given a list of encounters (as shown below), compute the average length of stay.\n",
    "\n",
    "Length of stay is simply defined as the discharge date minus the admit date."
   ]
  },
  {
   "cell_type": "code",
   "execution_count": 2,
   "metadata": {},
   "outputs": [],
   "source": [
    "from datetime import date\n",
    "\n",
    "my_encounters = [\n",
    "    { \"id\": \"E1234\", \"admit\": date(2019,1,3), \"diagnosis\": \"COPD\", \"discharge\": date(2019,1,8) },\n",
    "    { \"id\": \"E8342\", \"admit\": date(2019,1,5), \"diagnosis\": \"Hypertension\", \"discharge\": date(2019,1,9) },\n",
    "    { \"id\": \"E9231\", \"admit\": date(2019,1,12), \"diagnosis\": \"Anxiety\", \"discharge\": date(2019,1,13) },\n",
    "    { \"id\": \"E8333\", \"admit\": date(2019,1,15), \"diagnosis\": \"Observation\", \"discharge\": date(2019,1,16) },\n",
    "    { \"id\": \"E3342\", \"admit\": date(2019,1,4), \"diagnosis\": \"Anxiety\", \"discharge\": date(2019,1,4)}\n",
    "] \n",
    "\n"
   ]
  },
  {
   "cell_type": "code",
   "execution_count": 15,
   "metadata": {},
   "outputs": [],
   "source": [
    "def length_of_stay(admit, discharge, diagnosis=\"\"):\n",
    "    \"\"\"\n",
    "    \"\"\"\n",
    "    if str(diagnosis).lower() == \"observation\":\n",
    "        los = 0\n",
    "    else:\n",
    "        los = (discharge - admit).days\n",
    "\n",
    "    return los\n"
   ]
  },
  {
   "cell_type": "code",
   "execution_count": 16,
   "metadata": {},
   "outputs": [],
   "source": [
    "def avg_los(encounters):\n",
    "    \"\"\" (list) -> float\n",
    "    This function will calculate the average length of stay for all of the encounters in the input list.\n",
    "    The input is expected to be a list of dictionaries.  Each dictionary will have at least the following\n",
    "    keys: \"admit\", \"discharge\"\n",
    "    Length of stay is simple the difference between discharge date and admit date in days.\n",
    "    \n",
    "    >>> avg_los([{\"admit\": date(2019,1,1), \"discharge\": date(2019,1,2)}])\n",
    "    1.0\n",
    "    \n",
    "    \"\"\"\n",
    "    \n",
    "    stays = []\n",
    "    \n",
    "    for encounter in encounters:\n",
    "        admit = encounter.get(\"admit\")\n",
    "        discharge = encounter.get(\"discharge\")\n",
    "        diagnosis = encounter.get(\"diagnosis\")\n",
    "        los = length_of_stay(admit, discharge, diagnosis)\n",
    "        if los != 0:\n",
    "            stays.append(los)\n",
    "        \n",
    "    return sum(stays)/len(stays)\n",
    "        \n",
    "    "
   ]
  },
  {
   "cell_type": "code",
   "execution_count": 17,
   "metadata": {},
   "outputs": [
    {
     "data": {
      "text/plain": [
       "1.0"
      ]
     },
     "execution_count": 17,
     "metadata": {},
     "output_type": "execute_result"
    }
   ],
   "source": [
    "avg_los([{\"admit\": date(2019,1,1), \"discharge\": date(2019,1,2)}])"
   ]
  },
  {
   "cell_type": "code",
   "execution_count": 19,
   "metadata": {},
   "outputs": [
    {
     "data": {
      "text/plain": [
       "3.3333333333333335"
      ]
     },
     "execution_count": 19,
     "metadata": {},
     "output_type": "execute_result"
    }
   ],
   "source": [
    "avg_los(my_encounters)"
   ]
  },
  {
   "cell_type": "code",
   "execution_count": null,
   "metadata": {},
   "outputs": [],
   "source": []
  }
 ],
 "metadata": {
  "kernelspec": {
   "display_name": "Python 3",
   "language": "python",
   "name": "python3"
  },
  "language_info": {
   "codemirror_mode": {
    "name": "ipython",
    "version": 3
   },
   "file_extension": ".py",
   "mimetype": "text/x-python",
   "name": "python",
   "nbconvert_exporter": "python",
   "pygments_lexer": "ipython3",
   "version": "3.6.7"
  }
 },
 "nbformat": 4,
 "nbformat_minor": 4
}
