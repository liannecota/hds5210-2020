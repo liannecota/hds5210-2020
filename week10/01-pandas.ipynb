{
 "cells": [
  {
   "cell_type": "markdown",
   "metadata": {
    "nbgrader": {
     "grade": false,
     "grade_id": "cell-fa531f4523fe17b4",
     "locked": true,
     "schema_version": 1,
     "solution": false
    }
   },
   "source": [
    "# Instructions\n",
    "\n",
    "In the answer section below, select your answer to the following multiple choice questions by typing `answer = \"X\"` where `X` is the letter for the correct multiple choice answer."
   ]
  },
  {
   "cell_type": "markdown",
   "metadata": {
    "nbgrader": {
     "grade": false,
     "grade_id": "1-question",
     "locked": true,
     "schema_version": 1,
     "solution": false
    }
   },
   "source": [
    "## #1 - Which of the following are not part of the plotting capabilities of Python.\n",
    "\n",
    "> A) Pandas\n",
    ">\n",
    "> B) Matplotlib\n",
    ">\n",
    "> C) BeautifulSoup\n",
    ">\n",
    "> D) Seaborn\n"
   ]
  },
  {
   "cell_type": "code",
   "execution_count": 1,
   "metadata": {
    "nbgrader": {
     "grade": false,
     "grade_id": "q1-answer",
     "locked": false,
     "schema_version": 1,
     "solution": true
    }
   },
   "outputs": [],
   "source": [
    "def q01():\n",
    "    \n",
    "    ### BEGIN SOLUTION\n",
    "    answer = \"C\"\n",
    "    ### END SOLUTION\n",
    "    \n",
    "    return answer"
   ]
  },
  {
   "cell_type": "code",
   "execution_count": 3,
   "metadata": {
    "nbgrader": {
     "grade": true,
     "grade_id": "q1-solution",
     "locked": true,
     "points": 1,
     "schema_version": 1,
     "solution": false
    }
   },
   "outputs": [],
   "source": [
    "assert type(q01()) == str\n",
    "### BEGIN HIDDEN TESTS\n",
    "assert q01() == \"C\"\n",
    "### END HIDDEN TESTS"
   ]
  },
  {
   "cell_type": "markdown",
   "metadata": {
    "nbgrader": {
     "grade": false,
     "grade_id": "q2-question",
     "locked": true,
     "schema_version": 1,
     "solution": false
    }
   },
   "source": [
    "## #2 - In order to have plots display in your Jupyter notebook, which command do you need to run?\n",
    "\n",
    "> A) `%matplotlib inline`\n",
    ">\n",
    "> B) `import plotly`\n",
    ">\n",
    "> C) `import BeautifulSoup`\n",
    ">\n",
    "> D) `%showplots`\n"
   ]
  },
  {
   "cell_type": "code",
   "execution_count": 4,
   "metadata": {
    "nbgrader": {
     "grade": false,
     "grade_id": "q2-answer",
     "locked": false,
     "schema_version": 1,
     "solution": true
    }
   },
   "outputs": [],
   "source": [
    "def q02():\n",
    "    \n",
    "    ### BEGIN SOLUTION\n",
    "    answer = \"A\"\n",
    "    ### END SOLUTION\n",
    "    \n",
    "    return answer"
   ]
  },
  {
   "cell_type": "code",
   "execution_count": 5,
   "metadata": {
    "nbgrader": {
     "grade": true,
     "grade_id": "q2-solution",
     "locked": true,
     "points": 1,
     "schema_version": 1,
     "solution": false
    }
   },
   "outputs": [],
   "source": [
    "assert type(q02()) == str\n",
    "### BEGIN HIDDEN TESTS\n",
    "assert q02() == \"A\"\n",
    "### END HIDDEN TESTS"
   ]
  },
  {
   "cell_type": "markdown",
   "metadata": {
    "nbgrader": {
     "grade": false,
     "grade_id": "q3-question",
     "locked": true,
     "schema_version": 1,
     "solution": false
    }
   },
   "source": [
    "## #3 - Below is a explanation of what a chart can be used for.  Choose the best type of plot (barplot, histogram, scatterplot) to use.  Put your answer into a dictionary like this:\n",
    "\n",
    "```\n",
    "{\n",
    "    'A': 'barplot',\n",
    "    'B': 'histogram',\n",
    "    'C': 'scatterplot',\n",
    "    'D': 'histogram'\n",
    "}\n",
    "```\n",
    "\n",
    "> A) Showing the relationship between two numerical values.\n",
    ">\n",
    "> B) Visualizing the distribution of a particular numerical value in a data set.\n",
    ">\n",
    "> C) Comparing a single statistic across different categories.\n",
    ">\n",
    "> D) Showing how the range and distribution of a numerical value differs between multiple data series."
   ]
  },
  {
   "cell_type": "code",
   "execution_count": 6,
   "metadata": {
    "nbgrader": {
     "grade": false,
     "grade_id": "q3-answer",
     "locked": false,
     "schema_version": 1,
     "solution": true
    }
   },
   "outputs": [],
   "source": [
    "def q03():\n",
    "    \n",
    "    ### BEGIN SOLUTION\n",
    "    answer = {\n",
    "    'A': 'scatterplot',\n",
    "    'B': 'histogram',\n",
    "    'C': 'barplot',\n",
    "    'D': 'histogram'\n",
    "    }\n",
    "    ### END SOLUTION\n",
    "    \n",
    "    return answer"
   ]
  },
  {
   "cell_type": "code",
   "execution_count": 7,
   "metadata": {
    "nbgrader": {
     "grade": true,
     "grade_id": "q3-solution",
     "locked": true,
     "points": 1,
     "schema_version": 1,
     "solution": false
    }
   },
   "outputs": [],
   "source": [
    "assert type(q03()) == dict\n",
    "### BEGIN HIDDEN TESTS\n",
    "assert q03() == {\n",
    "    'A': 'scatterplot',\n",
    "    'B': 'histogram',\n",
    "    'C': 'barplot',\n",
    "    'D': 'histogram'\n",
    "}\n",
    "### END HIDDEN TESTS"
   ]
  },
  {
   "cell_type": "code",
   "execution_count": null,
   "metadata": {},
   "outputs": [],
   "source": []
  }
 ],
 "metadata": {
  "celltoolbar": "Create Assignment",
  "kernelspec": {
   "display_name": "Python 3",
   "language": "python",
   "name": "python3"
  },
  "language_info": {
   "codemirror_mode": {
    "name": "ipython",
    "version": 3
   },
   "file_extension": ".py",
   "mimetype": "text/x-python",
   "name": "python",
   "nbconvert_exporter": "python",
   "pygments_lexer": "ipython3",
   "version": "3.7.1"
  }
 },
 "nbformat": 4,
 "nbformat_minor": 2
}
