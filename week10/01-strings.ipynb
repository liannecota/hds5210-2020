{
 "cells": [
  {
   "cell_type": "markdown",
   "metadata": {
    "nbgrader": {
     "grade": false,
     "grade_id": "cell-fa531f4523fe17b4",
     "locked": true,
     "schema_version": 1,
     "solution": false
    }
   },
   "source": [
    "# Instructions\n",
    "\n",
    "In the answer section below, select your answer to the following multiple choice questions by typing `answer = \"X\"` where `X` is the letter for the correct multiple choice answer."
   ]
  },
  {
   "cell_type": "markdown",
   "metadata": {
    "nbgrader": {
     "grade": false,
     "grade_id": "1-question",
     "locked": true,
     "schema_version": 1,
     "solution": false
    }
   },
   "source": [
    "## #1 - What will be the output of the command below?  (Don't run it, just figure it out)\n",
    "\n",
    "```\n",
    "date='January 14, 2017'\n",
    "print(date[-4:])\n",
    "```\n",
    "\n",
    "> A) `Janu`\n",
    ">\n",
    "> B) Nothing.  It will raise an exception.\n",
    ">\n",
    "> C) Nothing.  Just and empty string.\n",
    ">\n",
    "> D) `2017`\n"
   ]
  },
  {
   "cell_type": "code",
   "execution_count": 1,
   "metadata": {
    "nbgrader": {
     "grade": false,
     "grade_id": "q1-answer",
     "locked": false,
     "schema_version": 1,
     "solution": true
    }
   },
   "outputs": [],
   "source": [
    "def q01():\n",
    "    \n",
    "    ### BEGIN SOLUTION\n",
    "    answer = 'D'\n",
    "    ### END SOLUTION\n",
    "    \n",
    "    return answer"
   ]
  },
  {
   "cell_type": "code",
   "execution_count": 2,
   "metadata": {
    "nbgrader": {
     "grade": true,
     "grade_id": "q1-solution",
     "locked": true,
     "points": 1,
     "schema_version": 1,
     "solution": false
    }
   },
   "outputs": [],
   "source": [
    "assert type(q01()) == str\n",
    "### BEGIN HIDDEN TESTS\n",
    "assert q01() == 'D'\n",
    "### END HIDDEN TESTS"
   ]
  },
  {
   "cell_type": "markdown",
   "metadata": {
    "nbgrader": {
     "grade": false,
     "grade_id": "q2-question",
     "locked": true,
     "schema_version": 1,
     "solution": false
    }
   },
   "source": [
    "## #2 - Which code below will successfully return `E.`?\n",
    "\n",
    "```\n",
    "name = 'Paul E. Boal'\n",
    "```\n",
    "\n",
    "> A) `name.split(' ')[2]`\n",
    ">\n",
    "> B) `name[name.find(' ')+1:name.find(' ')+3]`\n",
    ">\n",
    "> C) `name[6:7]`\n",
    ">\n",
    "> D) `middle(name)`\n"
   ]
  },
  {
   "cell_type": "code",
   "execution_count": 9,
   "metadata": {
    "nbgrader": {
     "grade": false,
     "grade_id": "q2-answer",
     "locked": false,
     "schema_version": 1,
     "solution": true
    }
   },
   "outputs": [],
   "source": [
    "def q02():\n",
    "    \n",
    "    ### BEGIN SOLUTION\n",
    "    answer = \"B\"\n",
    "    ### END SOLUTION\n",
    "    \n",
    "    return answer"
   ]
  },
  {
   "cell_type": "code",
   "execution_count": 10,
   "metadata": {
    "nbgrader": {
     "grade": true,
     "grade_id": "q2-solution",
     "locked": true,
     "points": 1,
     "schema_version": 1,
     "solution": false
    }
   },
   "outputs": [],
   "source": [
    "assert type(q02()) == str\n",
    "### BEGIN HIDDEN TESTS\n",
    "assert q02() == \"B\"\n",
    "### END HIDDEN TESTS"
   ]
  },
  {
   "cell_type": "markdown",
   "metadata": {
    "nbgrader": {
     "grade": false,
     "grade_id": "q3-question",
     "locked": true,
     "schema_version": 1,
     "solution": false
    }
   },
   "source": [
    "## #3 - Use the ASCII chart from the slides or find another online to decode the message (in decimal values) below.\n",
    "\n",
    "```\n",
    "080 121 116 104 111 110 080 097 110 100 097 115\n",
    "```\n",
    "\n",
    "\n",
    "> A) Pandas String\n",
    ">\n",
    "> B) Python Pandas\n",
    ">\n",
    "> C) Str Expression\n",
    ">\n",
    "> D) Substrings"
   ]
  },
  {
   "cell_type": "code",
   "execution_count": 11,
   "metadata": {
    "nbgrader": {
     "grade": false,
     "grade_id": "q3-answer",
     "locked": false,
     "schema_version": 1,
     "solution": true
    }
   },
   "outputs": [],
   "source": [
    "def q03():\n",
    "    \n",
    "    ### BEGIN SOLUTION\n",
    "    answer = \"B\"\n",
    "    ### END SOLUTION\n",
    "    \n",
    "    return answer"
   ]
  },
  {
   "cell_type": "code",
   "execution_count": 12,
   "metadata": {
    "nbgrader": {
     "grade": true,
     "grade_id": "q3-solution",
     "locked": true,
     "points": 1,
     "schema_version": 1,
     "solution": false
    }
   },
   "outputs": [],
   "source": [
    "assert type(q03()) == str\n",
    "### BEGIN HIDDEN TESTS\n",
    "assert q03() == \"B\"\n",
    "### END HIDDEN TESTS"
   ]
  },
  {
   "cell_type": "code",
   "execution_count": null,
   "metadata": {},
   "outputs": [],
   "source": []
  }
 ],
 "metadata": {
  "celltoolbar": "Create Assignment",
  "kernelspec": {
   "display_name": "Python 3",
   "language": "python",
   "name": "python3"
  },
  "language_info": {
   "codemirror_mode": {
    "name": "ipython",
    "version": 3
   },
   "file_extension": ".py",
   "mimetype": "text/x-python",
   "name": "python",
   "nbconvert_exporter": "python",
   "pygments_lexer": "ipython3",
   "version": "3.6.7"
  }
 },
 "nbformat": 4,
 "nbformat_minor": 2
}
