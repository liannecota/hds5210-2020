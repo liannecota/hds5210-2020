{
 "cells": [
  {
   "cell_type": "code",
   "execution_count": null,
   "metadata": {},
   "outputs": [],
   "source": [
    "ed_visits = [\n",
    "    { \n",
    "        '_id': 'bjh-2016',\n",
    "        'hospital' : {\n",
    "            'name': 'BJH',\n",
    "            'city': 'St. Louis',\n",
    "            'beds': 1243,\n",
    "            'services': ['IP','OP','ED','Clinic'],\n",
    "            'system': {\n",
    "                'name': 'BJC',\n",
    "                'affiliation': 'Non-Religious'\n",
    "            }\n",
    "        },\n",
    "        'year': 2016,\n",
    "        'ed_visits': 72348\n",
    "    },\n",
    "    { \n",
    "        '_id': 'bjh-2017',\n",
    "        'hospital' : {\n",
    "            'name': 'BJH',\n",
    "            'city': 'St. Louis',\n",
    "            'beds': 1243,\n",
    "            'services': ['IP','OP','ED','Clinic'],\n",
    "            'system': {\n",
    "                'name': 'BJC',\n",
    "                'affiliation': 'Non-Religious'\n",
    "            }\n",
    "        },\n",
    "        'year': 2017,\n",
    "        'ed_visits': 81221\n",
    "    },\n",
    "    { \n",
    "        '_id': 'mobap-2016',\n",
    "        'hospital' : {\n",
    "            'name': 'MoBap',\n",
    "            'city': 'Ladue',\n",
    "            'beds': 443,\n",
    "            'services': ['IP','OP','ED','Clinic'],\n",
    "            'system': {\n",
    "                'name': 'BJC',\n",
    "                'affiliation': 'Non-Religious'\n",
    "            }\n",
    "        },\n",
    "        'year': 2016,\n",
    "        'ed_visits': 42983\n",
    "    },\n",
    "    { \n",
    "        '_id': 'mobap-2017',\n",
    "        'hospital' : {\n",
    "            'name': 'MoBap',\n",
    "            'city': 'Ladue',\n",
    "            'beds': 443,\n",
    "            'services': ['IP','OP','ED','Clinic'],\n",
    "            'system': {\n",
    "                'name': 'BJC',\n",
    "                'affiliation': 'Non-Religious'\n",
    "            }\n",
    "        },\n",
    "        'year': 2017,\n",
    "        'ed_visits': 43921\n",
    "    },\n",
    "    { \n",
    "        '_id': 'mercystl-2016',\n",
    "        'hospital' : {\n",
    "            'name': 'Mercy STL',\n",
    "            'city': 'Ladue',\n",
    "            'beds': 1120,\n",
    "            'services': ['IP','OP','ED'],\n",
    "            'system': {\n",
    "                'name': 'Mercy',\n",
    "                'affiliation': 'Catholic'\n",
    "            }\n",
    "        },\n",
    "        'year': 2016,\n",
    "        'ed_visits': 51932\n",
    "    },\n",
    "    { \n",
    "        '_id': 'mercystl-2017',\n",
    "        'hospital' : {\n",
    "            'name': 'Mercy STL',\n",
    "            'city': 'Ladue',\n",
    "            'beds': 1120,\n",
    "            'services': ['IP','OP','ED'],\n",
    "            'system': {\n",
    "                'name': 'Mercy',\n",
    "                'affiliation': 'Catholic'\n",
    "            }\n",
    "        },\n",
    "        'year': 2017,\n",
    "        'ed_visits': 52221\n",
    "    }\n",
    "]"
   ]
  },
  {
   "cell_type": "code",
   "execution_count": null,
   "metadata": {},
   "outputs": [],
   "source": [
    "import pymongo\n",
    "import sys"
   ]
  },
  {
   "cell_type": "code",
   "execution_count": null,
   "metadata": {},
   "outputs": [],
   "source": [
    "client = pymongo.MongoClient('localhost')"
   ]
  },
  {
   "cell_type": "code",
   "execution_count": null,
   "metadata": {},
   "outputs": [],
   "source": [
    "db = client.test"
   ]
  },
  {
   "cell_type": "code",
   "execution_count": null,
   "metadata": {},
   "outputs": [],
   "source": [
    "docs = db.ed_vists"
   ]
  },
  {
   "cell_type": "code",
   "execution_count": null,
   "metadata": {},
   "outputs": [],
   "source": [
    "docs.delete_many({})"
   ]
  },
  {
   "cell_type": "code",
   "execution_count": null,
   "metadata": {},
   "outputs": [],
   "source": [
    "docs.count_documents({})"
   ]
  },
  {
   "cell_type": "code",
   "execution_count": null,
   "metadata": {},
   "outputs": [],
   "source": [
    "for d in ed_visits:\n",
    "    print(d.get(\"_id\"))\n",
    "    docs.insert_one(d)"
   ]
  },
  {
   "cell_type": "code",
   "execution_count": null,
   "metadata": {},
   "outputs": [],
   "source": [
    "docs.count_documents({})"
   ]
  },
  {
   "cell_type": "code",
   "execution_count": null,
   "metadata": {},
   "outputs": [],
   "source": [
    "for d in docs.find({}):\n",
    "    print(d['hospital']['name'])\n",
    "    print(d)"
   ]
  },
  {
   "cell_type": "code",
   "execution_count": null,
   "metadata": {},
   "outputs": [],
   "source": [
    "for d in docs.find({ 'year': 2017}):\n",
    "#     print(d['hospital']['name'])\n",
    "    print(d['hospital']['services'][0])"
   ]
  },
  {
   "cell_type": "code",
   "execution_count": null,
   "metadata": {},
   "outputs": [],
   "source": [
    "docs.insert_one({'_id': 'abc', 'name': 'Paul'})"
   ]
  },
  {
   "cell_type": "code",
   "execution_count": null,
   "metadata": {},
   "outputs": [],
   "source": [
    "docs.count_documents({})"
   ]
  },
  {
   "cell_type": "code",
   "execution_count": null,
   "metadata": {},
   "outputs": [],
   "source": [
    "for d in docs.find({}):\n",
    "    print(d)"
   ]
  },
  {
   "cell_type": "code",
   "execution_count": null,
   "metadata": {},
   "outputs": [],
   "source": []
  },
  {
   "cell_type": "code",
   "execution_count": null,
   "metadata": {},
   "outputs": [],
   "source": []
  }
 ],
 "metadata": {
  "kernelspec": {
   "display_name": "Python 3",
   "language": "python",
   "name": "python3"
  },
  "language_info": {
   "codemirror_mode": {
    "name": "ipython",
    "version": 3
   },
   "file_extension": ".py",
   "mimetype": "text/x-python",
   "name": "python",
   "nbconvert_exporter": "python",
   "pygments_lexer": "ipython3",
   "version": "3.6.7"
  }
 },
 "nbformat": 4,
 "nbformat_minor": 2
}
