{
 "cells": [
  {
   "cell_type": "code",
   "execution_count": 1,
   "metadata": {},
   "outputs": [],
   "source": [
    "#!#!#!#!#!#!#!#!#!#!#!#!#!#!#!#!#!#!#!#!#!#!#!#!#!#!#!#!#!#!\n",
    "# First, put in your user name below\n",
    "#!#!#!#!#!#!#!#!#!#!#!#!#!#!#!#!#!#!#!#!#!#!#!#!#!#!#!#!#!#!\n",
    "\n",
    "MYTABLE='pboal' + '_data'\n",
    "\n",
    "\n",
    "\n",
    "# Then, this code will automatically setup your \n",
    "import os\n",
    "from sqlalchemy import create_engine\n",
    "import pandas as pd\n",
    "\n",
    "host = 'slucor2019.cgdcoitnku0k.us-east-1.rds.amazonaws.com'\n",
    "port = '3306'\n",
    "user = 'slucor2019'\n",
    "password = 'SLUcor2019'\n",
    "database = 'slucor2019'\n",
    "\n",
    "conn = create_engine('mysql://' + \n",
    "                     user + ':' + \n",
    "                     password + '@' + \n",
    "                     host + ':' + \n",
    "                     str(port) + '/' + \n",
    "                     database)"
   ]
  },
  {
   "cell_type": "code",
   "execution_count": null,
   "metadata": {},
   "outputs": [],
   "source": [
    "url = 'http://dhcs-chhsagency.opendata.arcgis.com/datasets/8e4f3a0c75b9424d888d11c1f949cc32_0.csv'\n",
    "\n",
    "### BEGIN SOLUTION\n",
    "df = pd.read_csv(url)\n",
    "df.to_sql(MYTABLE, conn, if_exists='replace')\n",
    "### END SOLUTION"
   ]
  },
  {
   "cell_type": "code",
   "execution_count": 3,
   "metadata": {},
   "outputs": [],
   "source": [
    "### BEGIN SOLUTION\n",
    "MYTABLE='mustafakattallah_data'\n",
    "maxpop = pd.read_sql_query(\"\"\"\n",
    "select p.*, m.* from population p inner join {} m on p.zipcode = m.zip_code\n",
    "  \"\"\".format(MYTABLE), conn)\n",
    "\n",
    "### END SOLUTION"
   ]
  },
  {
   "cell_type": "code",
   "execution_count": 6,
   "metadata": {},
   "outputs": [
    {
     "data": {
      "text/plain": [
       "NPI\n",
       "1194016923    309633.0\n",
       "1558354258    273528.0\n",
       "1811129752    272637.0\n",
       "1356496772    247836.0\n",
       "1134143415    245910.0\n",
       "1871501916    243951.0\n",
       "1881786366    243951.0\n",
       "1710958228    243408.0\n",
       "1073665360    239151.0\n",
       "1891059127    234312.0\n",
       "1821147786    232998.0\n",
       "1477608271    230667.0\n",
       "1962407460    225942.0\n",
       "1730238007    223899.0\n",
       "1164609962    223899.0\n",
       "1427293216    221013.0\n",
       "1114021250    218634.0\n",
       "1528138088    216582.0\n",
       "1467560599    216582.0\n",
       "1225038953    215010.0\n",
       "1396728630    213372.0\n",
       "1487697215    209490.0\n",
       "1770726861    209358.0\n",
       "1790778488    206388.0\n",
       "1639166200    203550.0\n",
       "1770532608    202221.0\n",
       "1750365375    198723.0\n",
       "1376698043    198723.0\n",
       "1639143381    196656.0\n",
       "1063495190    194355.0\n",
       "                ...   \n",
       "1477522019     29241.0\n",
       "1093892275     28584.0\n",
       "1720078082     28245.0\n",
       "1619929759     26421.0\n",
       "1467764308     26022.0\n",
       "1689035628     25038.0\n",
       "1427181007     25038.0\n",
       "1962444059     24642.0\n",
       "1447239785     24411.0\n",
       "1396778197     23703.0\n",
       "1144215427     22458.0\n",
       "1518085430     21885.0\n",
       "1104906569     20508.0\n",
       "1447494323     18579.0\n",
       "1326094269     18558.0\n",
       "1427049964     16650.0\n",
       "1457520942     16413.0\n",
       "1073553756     16305.0\n",
       "1487669032     15276.0\n",
       "1992870430     15261.0\n",
       "1326044140     12687.0\n",
       "1508968819     11748.0\n",
       "1750462271     11238.0\n",
       "1346250347     11088.0\n",
       "1396848677      7935.0\n",
       "1003819376      7209.0\n",
       "1912125667      5703.0\n",
       "1831128602      5670.0\n",
       "1467442749      5112.0\n",
       "1801973052      2547.0\n",
       "Name: population, Length: 319, dtype: float64"
      ]
     },
     "execution_count": 6,
     "metadata": {},
     "output_type": "execute_result"
    }
   ],
   "source": [
    "maxpop.groupby(\"NPI\")[\"population\"].mean().sort_values(ascending=False)"
   ]
  },
  {
   "cell_type": "code",
   "execution_count": null,
   "metadata": {},
   "outputs": [],
   "source": []
  }
 ],
 "metadata": {
  "kernelspec": {
   "display_name": "Python 3",
   "language": "python",
   "name": "python3"
  },
  "language_info": {
   "codemirror_mode": {
    "name": "ipython",
    "version": 3
   },
   "file_extension": ".py",
   "mimetype": "text/x-python",
   "name": "python",
   "nbconvert_exporter": "python",
   "pygments_lexer": "ipython3",
   "version": "3.7.2"
  }
 },
 "nbformat": 4,
 "nbformat_minor": 2
}
