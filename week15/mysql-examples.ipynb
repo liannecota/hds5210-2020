{
 "cells": [
  {
   "cell_type": "markdown",
   "metadata": {},
   "source": [
    "# MySQL Relational Database\n",
    "\n",
    "\n",
    "<img src=\"datamodel.png\" alt=\"Data Model\" style=\"width: 300px; float: right; margin-left: 20px; border: 1px solid\">\n",
    "\n",
    "This sample database has the hospitals, systems, services, and visits information we talked about in the slides.  The model (table names, columns, and relationships) is show to the right.\n",
    "\n",
    "In this model, there are four tables:\n",
    "* System Affiliations\n",
    "* Hospitals\n",
    "* ED Visits\n",
    "* Hospital Services\n",
    "\n",
    "In these examples, we're going to ask a few questions and answer them with both SQL and Python Pandas data processes.\n"
   ]
  },
  {
   "cell_type": "markdown",
   "metadata": {},
   "source": [
    "## Setup\n",
    "\n",
    "Create a connection to the MySQL database"
   ]
  },
  {
   "cell_type": "code",
   "execution_count": 1,
   "metadata": {},
   "outputs": [],
   "source": [
    "import os\n",
    "import pymysql\n",
    "from sqlalchemy import create_engine\n",
    "import pandas as pd"
   ]
  },
  {
   "cell_type": "code",
   "execution_count": 2,
   "metadata": {},
   "outputs": [],
   "source": [
    "host = 'slucor2020.cgdcoitnku0k.us-east-1.rds.amazonaws.com'\n",
    "port = '3306'\n",
    "user = 'slucor2020'\n",
    "password = 'SLUcor2020'\n",
    "database = 'hds5210'"
   ]
  },
  {
   "cell_type": "code",
   "execution_count": 3,
   "metadata": {},
   "outputs": [],
   "source": [
    "conn = create_engine('mysql+pymysql://' + \n",
    "                     user + ':' + \n",
    "                     password + '@' + \n",
    "                     host + '/' + \n",
    "                     database, echo=False)"
   ]
  },
  {
   "cell_type": "markdown",
   "metadata": {},
   "source": [
    "## Give me a list of hospitals"
   ]
  },
  {
   "cell_type": "code",
   "execution_count": 4,
   "metadata": {},
   "outputs": [
    {
     "data": {
      "text/html": [
       "<div>\n",
       "<style scoped>\n",
       "    .dataframe tbody tr th:only-of-type {\n",
       "        vertical-align: middle;\n",
       "    }\n",
       "\n",
       "    .dataframe tbody tr th {\n",
       "        vertical-align: top;\n",
       "    }\n",
       "\n",
       "    .dataframe thead th {\n",
       "        text-align: right;\n",
       "    }\n",
       "</style>\n",
       "<table border=\"1\" class=\"dataframe\">\n",
       "  <thead>\n",
       "    <tr style=\"text-align: right;\">\n",
       "      <th></th>\n",
       "      <th>hospital_name</th>\n",
       "      <th>city</th>\n",
       "      <th>system_name</th>\n",
       "      <th>beds</th>\n",
       "    </tr>\n",
       "  </thead>\n",
       "  <tbody>\n",
       "    <tr>\n",
       "      <th>0</th>\n",
       "      <td>BJH</td>\n",
       "      <td>St. Louis</td>\n",
       "      <td>BJC</td>\n",
       "      <td>1243</td>\n",
       "    </tr>\n",
       "    <tr>\n",
       "      <th>1</th>\n",
       "      <td>Mercy STL</td>\n",
       "      <td>Ladue</td>\n",
       "      <td>Mercy</td>\n",
       "      <td>1120</td>\n",
       "    </tr>\n",
       "    <tr>\n",
       "      <th>2</th>\n",
       "      <td>MoBap</td>\n",
       "      <td>Ladue</td>\n",
       "      <td>BJC</td>\n",
       "      <td>443</td>\n",
       "    </tr>\n",
       "  </tbody>\n",
       "</table>\n",
       "</div>"
      ],
      "text/plain": [
       "  hospital_name       city system_name  beds\n",
       "0           BJH  St. Louis         BJC  1243\n",
       "1     Mercy STL      Ladue       Mercy  1120\n",
       "2         MoBap      Ladue         BJC   443"
      ]
     },
     "execution_count": 4,
     "metadata": {},
     "output_type": "execute_result"
    }
   ],
   "source": [
    "pd.read_sql_query(\"SELECT * FROM hospitals\", conn)"
   ]
  },
  {
   "cell_type": "markdown",
   "metadata": {},
   "source": [
    "# All the hospitals that are not affiliated with the Catholic church\n",
    "\n",
    "Using SQL, we join the hospitals with system_affiliations tables to get a list of hospitals."
   ]
  },
  {
   "cell_type": "code",
   "execution_count": 5,
   "metadata": {},
   "outputs": [
    {
     "data": {
      "text/html": [
       "<div>\n",
       "<style scoped>\n",
       "    .dataframe tbody tr th:only-of-type {\n",
       "        vertical-align: middle;\n",
       "    }\n",
       "\n",
       "    .dataframe tbody tr th {\n",
       "        vertical-align: top;\n",
       "    }\n",
       "\n",
       "    .dataframe thead th {\n",
       "        text-align: right;\n",
       "    }\n",
       "</style>\n",
       "<table border=\"1\" class=\"dataframe\">\n",
       "  <thead>\n",
       "    <tr style=\"text-align: right;\">\n",
       "      <th></th>\n",
       "      <th>hospital_name</th>\n",
       "      <th>city</th>\n",
       "      <th>system_name</th>\n",
       "      <th>beds</th>\n",
       "      <th>affiliation</th>\n",
       "    </tr>\n",
       "  </thead>\n",
       "  <tbody>\n",
       "    <tr>\n",
       "      <th>0</th>\n",
       "      <td>BJH</td>\n",
       "      <td>St. Louis</td>\n",
       "      <td>BJC</td>\n",
       "      <td>1243</td>\n",
       "      <td>Non-Religious</td>\n",
       "    </tr>\n",
       "    <tr>\n",
       "      <th>1</th>\n",
       "      <td>MoBap</td>\n",
       "      <td>Ladue</td>\n",
       "      <td>BJC</td>\n",
       "      <td>443</td>\n",
       "      <td>Non-Religious</td>\n",
       "    </tr>\n",
       "  </tbody>\n",
       "</table>\n",
       "</div>"
      ],
      "text/plain": [
       "  hospital_name       city system_name  beds    affiliation\n",
       "0           BJH  St. Louis         BJC  1243  Non-Religious\n",
       "1         MoBap      Ladue         BJC   443  Non-Religious"
      ]
     },
     "execution_count": 5,
     "metadata": {},
     "output_type": "execute_result"
    }
   ],
   "source": [
    "pd.read_sql_query(\"\"\"\n",
    "  SELECT h.*, s.affiliation\n",
    "  FROM \n",
    "    hospitals h JOIN\n",
    "    system_affiliations s ON h.system_name = s.system_name\n",
    "  WHERE\n",
    "    s.affiliation != 'Catholic'\n",
    "\"\"\", conn)"
   ]
  },
  {
   "cell_type": "markdown",
   "metadata": {},
   "source": [
    "## Read in all the DB tables into an array of Dataframes\n",
    "\n",
    "1. Get a list of all of the tables\n",
    "2. Read each table into a dataframe; and\n",
    "3. Store that in a dictionary of dataframes"
   ]
  },
  {
   "cell_type": "code",
   "execution_count": 6,
   "metadata": {},
   "outputs": [],
   "source": [
    "df = pd.read_sql_query(\"SHOW TABLES\", conn)"
   ]
  },
  {
   "cell_type": "code",
   "execution_count": 7,
   "metadata": {},
   "outputs": [
    {
     "data": {
      "text/html": [
       "<div>\n",
       "<style scoped>\n",
       "    .dataframe tbody tr th:only-of-type {\n",
       "        vertical-align: middle;\n",
       "    }\n",
       "\n",
       "    .dataframe tbody tr th {\n",
       "        vertical-align: top;\n",
       "    }\n",
       "\n",
       "    .dataframe thead th {\n",
       "        text-align: right;\n",
       "    }\n",
       "</style>\n",
       "<table border=\"1\" class=\"dataframe\">\n",
       "  <thead>\n",
       "    <tr style=\"text-align: right;\">\n",
       "      <th></th>\n",
       "      <th>Tables_in_hds5210</th>\n",
       "    </tr>\n",
       "  </thead>\n",
       "  <tbody>\n",
       "    <tr>\n",
       "      <th>0</th>\n",
       "      <td>ed_visits</td>\n",
       "    </tr>\n",
       "    <tr>\n",
       "      <th>1</th>\n",
       "      <td>hospital_services</td>\n",
       "    </tr>\n",
       "    <tr>\n",
       "      <th>2</th>\n",
       "      <td>hospitals</td>\n",
       "    </tr>\n",
       "    <tr>\n",
       "      <th>3</th>\n",
       "      <td>paulboal_data</td>\n",
       "    </tr>\n",
       "    <tr>\n",
       "      <th>4</th>\n",
       "      <td>population</td>\n",
       "    </tr>\n",
       "    <tr>\n",
       "      <th>5</th>\n",
       "      <td>system_affiliations</td>\n",
       "    </tr>\n",
       "  </tbody>\n",
       "</table>\n",
       "</div>"
      ],
      "text/plain": [
       "     Tables_in_hds5210\n",
       "0            ed_visits\n",
       "1    hospital_services\n",
       "2            hospitals\n",
       "3        paulboal_data\n",
       "4           population\n",
       "5  system_affiliations"
      ]
     },
     "execution_count": 7,
     "metadata": {},
     "output_type": "execute_result"
    }
   ],
   "source": [
    "df"
   ]
  },
  {
   "cell_type": "code",
   "execution_count": 8,
   "metadata": {},
   "outputs": [
    {
     "name": "stdout",
     "output_type": "stream",
     "text": [
      "ed_visits\n",
      "hospital_services\n",
      "hospitals\n",
      "paulboal_data\n",
      "population\n",
      "system_affiliations\n"
     ]
    }
   ],
   "source": [
    "tables = {}\n",
    "\n",
    "for n,t in pd.read_sql_query(\"SHOW TABLES\", conn).iterrows():\n",
    "    name = str(t['Tables_in_hds5210'])\n",
    "    print(name)\n",
    "    tables[name] = pd.read_sql(\"SELECT * FROM \"+name,conn)"
   ]
  },
  {
   "cell_type": "code",
   "execution_count": 9,
   "metadata": {
    "scrolled": true
   },
   "outputs": [
    {
     "data": {
      "text/plain": [
       "{'ed_visits':   hospital_name  year  ed_visits\n",
       " 0           BJH  2016      72348\n",
       " 1           BJH  2017      81221\n",
       " 2     Mercy STL  2016      51932\n",
       " 3     Mercy STL  2017      52221\n",
       " 4         MoBap  2016      42983\n",
       " 5         MoBap  2017      43921,\n",
       " 'hospital_services':    hospital_name services\n",
       " 0            BJH   Clinic\n",
       " 1            BJH       ED\n",
       " 2            BJH       IP\n",
       " 3            BJH       OP\n",
       " 4      Mercy STL       ED\n",
       " 5      Mercy STL       IP\n",
       " 6      Mercy STL       OP\n",
       " 7          MoBap   Clinic\n",
       " 8          MoBap       ED\n",
       " 9          MoBap       IP\n",
       " 10         MoBap       OP,\n",
       " 'hospitals':   hospital_name       city system_name  beds\n",
       " 0           BJH  St. Louis         BJC  1243\n",
       " 1     Mercy STL      Ladue       Mercy  1120\n",
       " 2         MoBap      Ladue         BJC   443,\n",
       " 'paulboal_data':      index           X          Y  \\\n",
       " 0        0 -122.435802  37.769062   \n",
       " 1        1 -117.913856  33.774499   \n",
       " 2        2 -117.262672  34.539918   \n",
       " 3        3 -120.045618  36.945447   \n",
       " 4        4 -117.117197  33.470664   \n",
       " ..     ...         ...        ...   \n",
       " 323    323 -121.995774  37.334574   \n",
       " 324    324 -118.156423  33.926359   \n",
       " 325    325 -119.451265  36.607796   \n",
       " 326    326 -118.326997  34.155912   \n",
       " 327    327 -118.294040  33.788973   \n",
       " \n",
       "                                     Provider_Name         NPI    CCN  \\\n",
       " 0                            Sutter Bay Hospitals  1659439834  50008   \n",
       " 1    PRIME HEALTHCARE SERVICES - GARDEN GROVE LLC  1659538858  50230   \n",
       " 2                          ST MARY MEDICAL CENTER  1669456299  50300   \n",
       " 3                       MADERA COMMUNITY HOSPITAL  1669673646  50568   \n",
       " 4                    Temecula Valley Hospital Inc  1679816201  50775   \n",
       " ..                                            ...         ...    ...   \n",
       " 323                   KAISER FOUNDATION HOSPITALS  1326119967  50071   \n",
       " 324      COUNTY OF LOS ANGELES AUDITOR CONTROLLER  1336154020  50717   \n",
       " 325                    REEDLEY COMMUNITY HOSPITAL  1336167550  50192   \n",
       " 326  PROVIDENCE HEALTH SYSTEM-SOUTHERN CALIFORNIA  1336173269  50235   \n",
       " 327                   KAISER FOUNDATION HOSPITALS  1336294040  50411   \n",
       " \n",
       "     Medicaid_EP_Hospital_Type           Street_Address           City  \\\n",
       " 0        Acute Care Hospitals      CASTRO & DUBOCE STS  SAN FRANCISCO   \n",
       " 1        Acute Care Hospitals  12601 GARDEN GROVE BLVD   GARDEN GROVE   \n",
       " 2        Acute Care Hospitals      18300 US HIGHWAY 18   APPLE VALLEY   \n",
       " 3        Acute Care Hospitals        1250 E ALMOND AVE         MADERA   \n",
       " 4        Acute Care Hospitals      31700 TEMECULA PKWY       TEMECULA   \n",
       " ..                        ...                      ...            ...   \n",
       " 323      Acute Care Hospitals        700 LAWRENCE EXPY    SANTA CLARA   \n",
       " 324      Acute Care Hospitals      7601 E IMPERIAL HWY         DOWNEY   \n",
       " 325      Acute Care Hospitals        372 W CYPRESS AVE        REEDLEY   \n",
       " 326      Acute Care Hospitals        501 S BUENA VISTA        BURBANK   \n",
       " 327      Acute Care Hospitals      25825 S VERMONT AVE    HARBOR CITY   \n",
       " \n",
       "              County  ... Payment_Year_Number       Program_Type  \\\n",
       " 0     San Francisco  ...                   3  Medicare/Medicaid   \n",
       " 1            Orange  ...                   4  Medicare/Medicaid   \n",
       " 2    San Bernardino  ...                   3  Medicare/Medicaid   \n",
       " 3            Madera  ...                   4  Medicare/Medicaid   \n",
       " 4         Riverside  ...                   1  Medicare/Medicaid   \n",
       " ..              ...  ...                 ...                ...   \n",
       " 323     Santa Clara  ...                   1  Medicare/Medicaid   \n",
       " 324     Los Angeles  ...                   2  Medicare/Medicaid   \n",
       " 325          Fresno  ...                   3  Medicare/Medicaid   \n",
       " 326     Los Angeles  ...                   4  Medicare/Medicaid   \n",
       " 327     Los Angeles  ...                   2  Medicare/Medicaid   \n",
       " \n",
       "      Total_payments Last_Program_Year  Last_Payment_Year  \\\n",
       " 0            638474              2015               2017   \n",
       " 1           3947489              2014               2015   \n",
       " 2           3062645              2014               2015   \n",
       " 3           2057365              2015               2016   \n",
       " 4            474790              2016               2017   \n",
       " ..              ...               ...                ...   \n",
       " 323          339080              2016               2017   \n",
       " 324         3686626              2016               2018   \n",
       " 325         2520247              2015               2018   \n",
       " 326         2326084              2014               2015   \n",
       " 327          358649              2016               2018   \n",
       " \n",
       "      Last_Payment_Criteria  Most_Recent_Disbursement_Amount   LONGITUDE  \\\n",
       " 0                       MU                            70942 -122.435802   \n",
       " 1                       MU                           394749 -117.913856   \n",
       " 2                       MU                           340294 -117.262672   \n",
       " 3                       MU                           205737 -120.045618   \n",
       " 4                      AIU                           474790 -117.117197   \n",
       " ..                     ...                              ...         ...   \n",
       " 323                     MU                           339080 -121.995774   \n",
       " 324                     MU                          1382485 -118.156423   \n",
       " 325                     MU                           280027 -119.451265   \n",
       " 326                     MU                           232608 -118.326997   \n",
       " 327                     MU                           134493 -118.294040   \n",
       " \n",
       "       LATITUDE  FID  \n",
       " 0    37.769062    1  \n",
       " 1    33.774499    2  \n",
       " 2    34.539918    3  \n",
       " 3    36.945447    4  \n",
       " 4    33.470664    5  \n",
       " ..         ...  ...  \n",
       " 323  37.334574  324  \n",
       " 324  33.926359  325  \n",
       " 325  36.607796  326  \n",
       " 326  34.155912  327  \n",
       " 327  33.788973  328  \n",
       " \n",
       " [328 rows x 22 columns],\n",
       " 'population':     zipcode  population  median_age  total_males  total_females  \\\n",
       " 0     91371           1        73.5            0              1   \n",
       " 1     90001       57110        26.6        28468          28642   \n",
       " 2     90002       51223        25.5        24876          26347   \n",
       " 3     90003       66266        26.3        32631          33635   \n",
       " 4     90004       62180        34.8        31302          30878   \n",
       " ..      ...         ...         ...          ...            ...   \n",
       " 314   93552       38158        28.4        18711          19447   \n",
       " 315   93553        2138        43.3         1121           1017   \n",
       " 316   93560       18910        32.4         9491           9419   \n",
       " 317   93563         388        44.5          263            125   \n",
       " 318   93591        7285        30.9         3653           3632   \n",
       " \n",
       "      total_households  avg_household  \n",
       " 0                   1           1.00  \n",
       " 1               12971           4.40  \n",
       " 2               11731           4.36  \n",
       " 3               15642           4.22  \n",
       " 4               22547           2.73  \n",
       " ..                ...            ...  \n",
       " 314              9690           3.93  \n",
       " 315               816           2.62  \n",
       " 316              6469           2.92  \n",
       " 317               103           2.53  \n",
       " 318              1982           3.67  \n",
       " \n",
       " [319 rows x 7 columns],\n",
       " 'system_affiliations':   system_name    affiliation\n",
       " 0         BJC  Non-Religious\n",
       " 1       Mercy       Catholic}"
      ]
     },
     "execution_count": 9,
     "metadata": {},
     "output_type": "execute_result"
    }
   ],
   "source": [
    "tables"
   ]
  },
  {
   "cell_type": "markdown",
   "metadata": {},
   "source": [
    "# All the hospitals that are not affiliated with the Catholic church\n",
    "\n",
    "This time, using Pandas"
   ]
  },
  {
   "cell_type": "code",
   "execution_count": 11,
   "metadata": {},
   "outputs": [],
   "source": [
    "hospitals = tables['hospitals'].merge(tables['system_affiliations'])"
   ]
  },
  {
   "cell_type": "code",
   "execution_count": 12,
   "metadata": {},
   "outputs": [
    {
     "data": {
      "text/html": [
       "<div>\n",
       "<style scoped>\n",
       "    .dataframe tbody tr th:only-of-type {\n",
       "        vertical-align: middle;\n",
       "    }\n",
       "\n",
       "    .dataframe tbody tr th {\n",
       "        vertical-align: top;\n",
       "    }\n",
       "\n",
       "    .dataframe thead th {\n",
       "        text-align: right;\n",
       "    }\n",
       "</style>\n",
       "<table border=\"1\" class=\"dataframe\">\n",
       "  <thead>\n",
       "    <tr style=\"text-align: right;\">\n",
       "      <th></th>\n",
       "      <th>hospital_name</th>\n",
       "      <th>city</th>\n",
       "      <th>system_name</th>\n",
       "      <th>beds</th>\n",
       "      <th>affiliation</th>\n",
       "    </tr>\n",
       "  </thead>\n",
       "  <tbody>\n",
       "    <tr>\n",
       "      <th>0</th>\n",
       "      <td>BJH</td>\n",
       "      <td>St. Louis</td>\n",
       "      <td>BJC</td>\n",
       "      <td>1243</td>\n",
       "      <td>Non-Religious</td>\n",
       "    </tr>\n",
       "    <tr>\n",
       "      <th>1</th>\n",
       "      <td>MoBap</td>\n",
       "      <td>Ladue</td>\n",
       "      <td>BJC</td>\n",
       "      <td>443</td>\n",
       "      <td>Non-Religious</td>\n",
       "    </tr>\n",
       "    <tr>\n",
       "      <th>2</th>\n",
       "      <td>Mercy STL</td>\n",
       "      <td>Ladue</td>\n",
       "      <td>Mercy</td>\n",
       "      <td>1120</td>\n",
       "      <td>Catholic</td>\n",
       "    </tr>\n",
       "  </tbody>\n",
       "</table>\n",
       "</div>"
      ],
      "text/plain": [
       "  hospital_name       city system_name  beds    affiliation\n",
       "0           BJH  St. Louis         BJC  1243  Non-Religious\n",
       "1         MoBap      Ladue         BJC   443  Non-Religious\n",
       "2     Mercy STL      Ladue       Mercy  1120       Catholic"
      ]
     },
     "execution_count": 12,
     "metadata": {},
     "output_type": "execute_result"
    }
   ],
   "source": [
    "hospitals"
   ]
  },
  {
   "cell_type": "code",
   "execution_count": 13,
   "metadata": {},
   "outputs": [
    {
     "data": {
      "text/html": [
       "<div>\n",
       "<style scoped>\n",
       "    .dataframe tbody tr th:only-of-type {\n",
       "        vertical-align: middle;\n",
       "    }\n",
       "\n",
       "    .dataframe tbody tr th {\n",
       "        vertical-align: top;\n",
       "    }\n",
       "\n",
       "    .dataframe thead th {\n",
       "        text-align: right;\n",
       "    }\n",
       "</style>\n",
       "<table border=\"1\" class=\"dataframe\">\n",
       "  <thead>\n",
       "    <tr style=\"text-align: right;\">\n",
       "      <th></th>\n",
       "      <th>hospital_name</th>\n",
       "      <th>city</th>\n",
       "      <th>system_name</th>\n",
       "      <th>beds</th>\n",
       "      <th>affiliation</th>\n",
       "    </tr>\n",
       "  </thead>\n",
       "  <tbody>\n",
       "    <tr>\n",
       "      <th>0</th>\n",
       "      <td>BJH</td>\n",
       "      <td>St. Louis</td>\n",
       "      <td>BJC</td>\n",
       "      <td>1243</td>\n",
       "      <td>Non-Religious</td>\n",
       "    </tr>\n",
       "    <tr>\n",
       "      <th>1</th>\n",
       "      <td>MoBap</td>\n",
       "      <td>Ladue</td>\n",
       "      <td>BJC</td>\n",
       "      <td>443</td>\n",
       "      <td>Non-Religious</td>\n",
       "    </tr>\n",
       "  </tbody>\n",
       "</table>\n",
       "</div>"
      ],
      "text/plain": [
       "  hospital_name       city system_name  beds    affiliation\n",
       "0           BJH  St. Louis         BJC  1243  Non-Religious\n",
       "1         MoBap      Ladue         BJC   443  Non-Religious"
      ]
     },
     "execution_count": 13,
     "metadata": {},
     "output_type": "execute_result"
    }
   ],
   "source": [
    "hospitals[hospitals['affiliation'] != 'Catholic']"
   ]
  },
  {
   "cell_type": "markdown",
   "metadata": {},
   "source": [
    "## Hospitals with more than 43,000 ED visits each year\n",
    "\n",
    "First in SQL"
   ]
  },
  {
   "cell_type": "code",
   "execution_count": 10,
   "metadata": {},
   "outputs": [
    {
     "data": {
      "text/html": [
       "<div>\n",
       "<style scoped>\n",
       "    .dataframe tbody tr th:only-of-type {\n",
       "        vertical-align: middle;\n",
       "    }\n",
       "\n",
       "    .dataframe tbody tr th {\n",
       "        vertical-align: top;\n",
       "    }\n",
       "\n",
       "    .dataframe thead th {\n",
       "        text-align: right;\n",
       "    }\n",
       "</style>\n",
       "<table border=\"1\" class=\"dataframe\">\n",
       "  <thead>\n",
       "    <tr style=\"text-align: right;\">\n",
       "      <th></th>\n",
       "      <th>hospital_name</th>\n",
       "      <th>city</th>\n",
       "      <th>system_name</th>\n",
       "      <th>beds</th>\n",
       "      <th>hospital_name</th>\n",
       "      <th>year</th>\n",
       "      <th>ed_visits</th>\n",
       "    </tr>\n",
       "  </thead>\n",
       "  <tbody>\n",
       "    <tr>\n",
       "      <th>0</th>\n",
       "      <td>BJH</td>\n",
       "      <td>St. Louis</td>\n",
       "      <td>BJC</td>\n",
       "      <td>1243</td>\n",
       "      <td>BJH</td>\n",
       "      <td>2016</td>\n",
       "      <td>72348</td>\n",
       "    </tr>\n",
       "    <tr>\n",
       "      <th>1</th>\n",
       "      <td>BJH</td>\n",
       "      <td>St. Louis</td>\n",
       "      <td>BJC</td>\n",
       "      <td>1243</td>\n",
       "      <td>BJH</td>\n",
       "      <td>2017</td>\n",
       "      <td>81221</td>\n",
       "    </tr>\n",
       "    <tr>\n",
       "      <th>2</th>\n",
       "      <td>Mercy STL</td>\n",
       "      <td>Ladue</td>\n",
       "      <td>Mercy</td>\n",
       "      <td>1120</td>\n",
       "      <td>Mercy STL</td>\n",
       "      <td>2016</td>\n",
       "      <td>51932</td>\n",
       "    </tr>\n",
       "    <tr>\n",
       "      <th>3</th>\n",
       "      <td>Mercy STL</td>\n",
       "      <td>Ladue</td>\n",
       "      <td>Mercy</td>\n",
       "      <td>1120</td>\n",
       "      <td>Mercy STL</td>\n",
       "      <td>2017</td>\n",
       "      <td>52221</td>\n",
       "    </tr>\n",
       "    <tr>\n",
       "      <th>4</th>\n",
       "      <td>MoBap</td>\n",
       "      <td>Ladue</td>\n",
       "      <td>BJC</td>\n",
       "      <td>443</td>\n",
       "      <td>MoBap</td>\n",
       "      <td>2017</td>\n",
       "      <td>43921</td>\n",
       "    </tr>\n",
       "  </tbody>\n",
       "</table>\n",
       "</div>"
      ],
      "text/plain": [
       "  hospital_name       city system_name  beds hospital_name  year  ed_visits\n",
       "0           BJH  St. Louis         BJC  1243           BJH  2016      72348\n",
       "1           BJH  St. Louis         BJC  1243           BJH  2017      81221\n",
       "2     Mercy STL      Ladue       Mercy  1120     Mercy STL  2016      51932\n",
       "3     Mercy STL      Ladue       Mercy  1120     Mercy STL  2017      52221\n",
       "4         MoBap      Ladue         BJC   443         MoBap  2017      43921"
      ]
     },
     "execution_count": 10,
     "metadata": {},
     "output_type": "execute_result"
    }
   ],
   "source": [
    "pd.read_sql_query(\"\"\"\n",
    "  SELECT h.*, v.*\n",
    "  FROM \n",
    "    hospitals h JOIN\n",
    "    ed_visits v ON h.hospital_name = v.hospital_name\n",
    "  WHERE\n",
    "    v.ed_visits > 43000\n",
    "\"\"\", conn)"
   ]
  },
  {
   "cell_type": "markdown",
   "metadata": {},
   "source": [
    "Now, let's use SQL to pivot that so that we can see 2016 and 2017 in two separate columns..."
   ]
  },
  {
   "cell_type": "markdown",
   "metadata": {},
   "source": [
    "# ..."
   ]
  },
  {
   "cell_type": "markdown",
   "metadata": {},
   "source": [
    "Come on.  Let's do it?"
   ]
  },
  {
   "cell_type": "markdown",
   "metadata": {},
   "source": [
    "# ..."
   ]
  },
  {
   "cell_type": "markdown",
   "metadata": {},
   "source": [
    "Oh.  That isn't supported.  :("
   ]
  },
  {
   "cell_type": "markdown",
   "metadata": {},
   "source": [
    "## Let's try with Pandas"
   ]
  },
  {
   "cell_type": "code",
   "execution_count": 14,
   "metadata": {},
   "outputs": [],
   "source": [
    "visits = tables['hospitals'].merge(tables['ed_visits'])"
   ]
  },
  {
   "cell_type": "code",
   "execution_count": 15,
   "metadata": {},
   "outputs": [
    {
     "data": {
      "text/html": [
       "<div>\n",
       "<style scoped>\n",
       "    .dataframe tbody tr th:only-of-type {\n",
       "        vertical-align: middle;\n",
       "    }\n",
       "\n",
       "    .dataframe tbody tr th {\n",
       "        vertical-align: top;\n",
       "    }\n",
       "\n",
       "    .dataframe thead th {\n",
       "        text-align: right;\n",
       "    }\n",
       "</style>\n",
       "<table border=\"1\" class=\"dataframe\">\n",
       "  <thead>\n",
       "    <tr style=\"text-align: right;\">\n",
       "      <th></th>\n",
       "      <th>hospital_name</th>\n",
       "      <th>city</th>\n",
       "      <th>system_name</th>\n",
       "      <th>beds</th>\n",
       "      <th>year</th>\n",
       "      <th>ed_visits</th>\n",
       "    </tr>\n",
       "  </thead>\n",
       "  <tbody>\n",
       "    <tr>\n",
       "      <th>0</th>\n",
       "      <td>BJH</td>\n",
       "      <td>St. Louis</td>\n",
       "      <td>BJC</td>\n",
       "      <td>1243</td>\n",
       "      <td>2016</td>\n",
       "      <td>72348</td>\n",
       "    </tr>\n",
       "    <tr>\n",
       "      <th>1</th>\n",
       "      <td>BJH</td>\n",
       "      <td>St. Louis</td>\n",
       "      <td>BJC</td>\n",
       "      <td>1243</td>\n",
       "      <td>2017</td>\n",
       "      <td>81221</td>\n",
       "    </tr>\n",
       "    <tr>\n",
       "      <th>2</th>\n",
       "      <td>Mercy STL</td>\n",
       "      <td>Ladue</td>\n",
       "      <td>Mercy</td>\n",
       "      <td>1120</td>\n",
       "      <td>2016</td>\n",
       "      <td>51932</td>\n",
       "    </tr>\n",
       "    <tr>\n",
       "      <th>3</th>\n",
       "      <td>Mercy STL</td>\n",
       "      <td>Ladue</td>\n",
       "      <td>Mercy</td>\n",
       "      <td>1120</td>\n",
       "      <td>2017</td>\n",
       "      <td>52221</td>\n",
       "    </tr>\n",
       "    <tr>\n",
       "      <th>4</th>\n",
       "      <td>MoBap</td>\n",
       "      <td>Ladue</td>\n",
       "      <td>BJC</td>\n",
       "      <td>443</td>\n",
       "      <td>2016</td>\n",
       "      <td>42983</td>\n",
       "    </tr>\n",
       "    <tr>\n",
       "      <th>5</th>\n",
       "      <td>MoBap</td>\n",
       "      <td>Ladue</td>\n",
       "      <td>BJC</td>\n",
       "      <td>443</td>\n",
       "      <td>2017</td>\n",
       "      <td>43921</td>\n",
       "    </tr>\n",
       "  </tbody>\n",
       "</table>\n",
       "</div>"
      ],
      "text/plain": [
       "  hospital_name       city system_name  beds  year  ed_visits\n",
       "0           BJH  St. Louis         BJC  1243  2016      72348\n",
       "1           BJH  St. Louis         BJC  1243  2017      81221\n",
       "2     Mercy STL      Ladue       Mercy  1120  2016      51932\n",
       "3     Mercy STL      Ladue       Mercy  1120  2017      52221\n",
       "4         MoBap      Ladue         BJC   443  2016      42983\n",
       "5         MoBap      Ladue         BJC   443  2017      43921"
      ]
     },
     "execution_count": 15,
     "metadata": {},
     "output_type": "execute_result"
    }
   ],
   "source": [
    "visits"
   ]
  },
  {
   "cell_type": "code",
   "execution_count": 16,
   "metadata": {},
   "outputs": [],
   "source": [
    "visits = visits[visits['ed_visits'] > 43000]"
   ]
  },
  {
   "cell_type": "code",
   "execution_count": 17,
   "metadata": {},
   "outputs": [
    {
     "data": {
      "text/html": [
       "<div>\n",
       "<style scoped>\n",
       "    .dataframe tbody tr th:only-of-type {\n",
       "        vertical-align: middle;\n",
       "    }\n",
       "\n",
       "    .dataframe tbody tr th {\n",
       "        vertical-align: top;\n",
       "    }\n",
       "\n",
       "    .dataframe thead th {\n",
       "        text-align: right;\n",
       "    }\n",
       "</style>\n",
       "<table border=\"1\" class=\"dataframe\">\n",
       "  <thead>\n",
       "    <tr style=\"text-align: right;\">\n",
       "      <th></th>\n",
       "      <th>hospital_name</th>\n",
       "      <th>city</th>\n",
       "      <th>system_name</th>\n",
       "      <th>beds</th>\n",
       "      <th>year</th>\n",
       "      <th>ed_visits</th>\n",
       "    </tr>\n",
       "  </thead>\n",
       "  <tbody>\n",
       "    <tr>\n",
       "      <th>0</th>\n",
       "      <td>BJH</td>\n",
       "      <td>St. Louis</td>\n",
       "      <td>BJC</td>\n",
       "      <td>1243</td>\n",
       "      <td>2016</td>\n",
       "      <td>72348</td>\n",
       "    </tr>\n",
       "    <tr>\n",
       "      <th>1</th>\n",
       "      <td>BJH</td>\n",
       "      <td>St. Louis</td>\n",
       "      <td>BJC</td>\n",
       "      <td>1243</td>\n",
       "      <td>2017</td>\n",
       "      <td>81221</td>\n",
       "    </tr>\n",
       "    <tr>\n",
       "      <th>2</th>\n",
       "      <td>Mercy STL</td>\n",
       "      <td>Ladue</td>\n",
       "      <td>Mercy</td>\n",
       "      <td>1120</td>\n",
       "      <td>2016</td>\n",
       "      <td>51932</td>\n",
       "    </tr>\n",
       "    <tr>\n",
       "      <th>3</th>\n",
       "      <td>Mercy STL</td>\n",
       "      <td>Ladue</td>\n",
       "      <td>Mercy</td>\n",
       "      <td>1120</td>\n",
       "      <td>2017</td>\n",
       "      <td>52221</td>\n",
       "    </tr>\n",
       "    <tr>\n",
       "      <th>5</th>\n",
       "      <td>MoBap</td>\n",
       "      <td>Ladue</td>\n",
       "      <td>BJC</td>\n",
       "      <td>443</td>\n",
       "      <td>2017</td>\n",
       "      <td>43921</td>\n",
       "    </tr>\n",
       "  </tbody>\n",
       "</table>\n",
       "</div>"
      ],
      "text/plain": [
       "  hospital_name       city system_name  beds  year  ed_visits\n",
       "0           BJH  St. Louis         BJC  1243  2016      72348\n",
       "1           BJH  St. Louis         BJC  1243  2017      81221\n",
       "2     Mercy STL      Ladue       Mercy  1120  2016      51932\n",
       "3     Mercy STL      Ladue       Mercy  1120  2017      52221\n",
       "5         MoBap      Ladue         BJC   443  2017      43921"
      ]
     },
     "execution_count": 17,
     "metadata": {},
     "output_type": "execute_result"
    }
   ],
   "source": [
    "visits"
   ]
  },
  {
   "cell_type": "code",
   "execution_count": 18,
   "metadata": {},
   "outputs": [
    {
     "data": {
      "text/html": [
       "<div>\n",
       "<style scoped>\n",
       "    .dataframe tbody tr th:only-of-type {\n",
       "        vertical-align: middle;\n",
       "    }\n",
       "\n",
       "    .dataframe tbody tr th {\n",
       "        vertical-align: top;\n",
       "    }\n",
       "\n",
       "    .dataframe thead th {\n",
       "        text-align: right;\n",
       "    }\n",
       "</style>\n",
       "<table border=\"1\" class=\"dataframe\">\n",
       "  <thead>\n",
       "    <tr style=\"text-align: right;\">\n",
       "      <th>year</th>\n",
       "      <th>hospital_name</th>\n",
       "      <th>city</th>\n",
       "      <th>system_name</th>\n",
       "      <th>beds</th>\n",
       "      <th>2016</th>\n",
       "      <th>2017</th>\n",
       "    </tr>\n",
       "  </thead>\n",
       "  <tbody>\n",
       "    <tr>\n",
       "      <th>0</th>\n",
       "      <td>BJH</td>\n",
       "      <td>St. Louis</td>\n",
       "      <td>BJC</td>\n",
       "      <td>1243</td>\n",
       "      <td>72348.0</td>\n",
       "      <td>81221.0</td>\n",
       "    </tr>\n",
       "    <tr>\n",
       "      <th>1</th>\n",
       "      <td>Mercy STL</td>\n",
       "      <td>Ladue</td>\n",
       "      <td>Mercy</td>\n",
       "      <td>1120</td>\n",
       "      <td>51932.0</td>\n",
       "      <td>52221.0</td>\n",
       "    </tr>\n",
       "    <tr>\n",
       "      <th>2</th>\n",
       "      <td>MoBap</td>\n",
       "      <td>Ladue</td>\n",
       "      <td>BJC</td>\n",
       "      <td>443</td>\n",
       "      <td>NaN</td>\n",
       "      <td>43921.0</td>\n",
       "    </tr>\n",
       "  </tbody>\n",
       "</table>\n",
       "</div>"
      ],
      "text/plain": [
       "year hospital_name       city system_name  beds     2016     2017\n",
       "0              BJH  St. Louis         BJC  1243  72348.0  81221.0\n",
       "1        Mercy STL      Ladue       Mercy  1120  51932.0  52221.0\n",
       "2            MoBap      Ladue         BJC   443      NaN  43921.0"
      ]
     },
     "execution_count": 18,
     "metadata": {},
     "output_type": "execute_result"
    }
   ],
   "source": [
    "pd.pivot_table(visits, \n",
    "               index=['hospital_name','city','system_name','beds'], \n",
    "               columns='year', \n",
    "               values='ed_visits').reset_index()"
   ]
  },
  {
   "cell_type": "markdown",
   "metadata": {},
   "source": [
    "## OK.  We can do it in SQL...\n",
    "\n",
    "But can you figure out why this is a bad idea?"
   ]
  },
  {
   "cell_type": "code",
   "execution_count": 19,
   "metadata": {},
   "outputs": [
    {
     "data": {
      "text/html": [
       "<div>\n",
       "<style scoped>\n",
       "    .dataframe tbody tr th:only-of-type {\n",
       "        vertical-align: middle;\n",
       "    }\n",
       "\n",
       "    .dataframe tbody tr th {\n",
       "        vertical-align: top;\n",
       "    }\n",
       "\n",
       "    .dataframe thead th {\n",
       "        text-align: right;\n",
       "    }\n",
       "</style>\n",
       "<table border=\"1\" class=\"dataframe\">\n",
       "  <thead>\n",
       "    <tr style=\"text-align: right;\">\n",
       "      <th></th>\n",
       "      <th>hospital_name</th>\n",
       "      <th>city</th>\n",
       "      <th>system_name</th>\n",
       "      <th>beds</th>\n",
       "      <th>year</th>\n",
       "      <th>visits_2016</th>\n",
       "      <th>visits_2017</th>\n",
       "    </tr>\n",
       "  </thead>\n",
       "  <tbody>\n",
       "    <tr>\n",
       "      <th>0</th>\n",
       "      <td>BJH</td>\n",
       "      <td>St. Louis</td>\n",
       "      <td>BJC</td>\n",
       "      <td>1243</td>\n",
       "      <td>2016</td>\n",
       "      <td>72348.0</td>\n",
       "      <td>NaN</td>\n",
       "    </tr>\n",
       "    <tr>\n",
       "      <th>1</th>\n",
       "      <td>BJH</td>\n",
       "      <td>St. Louis</td>\n",
       "      <td>BJC</td>\n",
       "      <td>1243</td>\n",
       "      <td>2017</td>\n",
       "      <td>NaN</td>\n",
       "      <td>81221.0</td>\n",
       "    </tr>\n",
       "    <tr>\n",
       "      <th>2</th>\n",
       "      <td>Mercy STL</td>\n",
       "      <td>Ladue</td>\n",
       "      <td>Mercy</td>\n",
       "      <td>1120</td>\n",
       "      <td>2016</td>\n",
       "      <td>51932.0</td>\n",
       "      <td>NaN</td>\n",
       "    </tr>\n",
       "    <tr>\n",
       "      <th>3</th>\n",
       "      <td>Mercy STL</td>\n",
       "      <td>Ladue</td>\n",
       "      <td>Mercy</td>\n",
       "      <td>1120</td>\n",
       "      <td>2017</td>\n",
       "      <td>NaN</td>\n",
       "      <td>52221.0</td>\n",
       "    </tr>\n",
       "    <tr>\n",
       "      <th>4</th>\n",
       "      <td>MoBap</td>\n",
       "      <td>Ladue</td>\n",
       "      <td>BJC</td>\n",
       "      <td>443</td>\n",
       "      <td>2017</td>\n",
       "      <td>NaN</td>\n",
       "      <td>43921.0</td>\n",
       "    </tr>\n",
       "  </tbody>\n",
       "</table>\n",
       "</div>"
      ],
      "text/plain": [
       "  hospital_name       city system_name  beds  year  visits_2016  visits_2017\n",
       "0           BJH  St. Louis         BJC  1243  2016      72348.0          NaN\n",
       "1           BJH  St. Louis         BJC  1243  2017          NaN      81221.0\n",
       "2     Mercy STL      Ladue       Mercy  1120  2016      51932.0          NaN\n",
       "3     Mercy STL      Ladue       Mercy  1120  2017          NaN      52221.0\n",
       "4         MoBap      Ladue         BJC   443  2017          NaN      43921.0"
      ]
     },
     "execution_count": 19,
     "metadata": {},
     "output_type": "execute_result"
    }
   ],
   "source": [
    "pd.read_sql_query(\"\"\"\n",
    "  SELECT \n",
    "    h.*, v.year, \n",
    "    CASE WHEN v.year = 2016 THEN v.ed_visits ELSE NULL END as visits_2016,\n",
    "    CASE WHEN v.year = 2017 THEN v.ed_visits ELSE NULL END as visits_2017\n",
    "  FROM \n",
    "    hospitals h JOIN\n",
    "    ed_visits v ON h.hospital_name = v.hospital_name\n",
    "  WHERE\n",
    "    v.ed_visits > 43000\n",
    "\"\"\", conn)"
   ]
  },
  {
   "cell_type": "code",
   "execution_count": 20,
   "metadata": {},
   "outputs": [
    {
     "data": {
      "text/html": [
       "<div>\n",
       "<style scoped>\n",
       "    .dataframe tbody tr th:only-of-type {\n",
       "        vertical-align: middle;\n",
       "    }\n",
       "\n",
       "    .dataframe tbody tr th {\n",
       "        vertical-align: top;\n",
       "    }\n",
       "\n",
       "    .dataframe thead th {\n",
       "        text-align: right;\n",
       "    }\n",
       "</style>\n",
       "<table border=\"1\" class=\"dataframe\">\n",
       "  <thead>\n",
       "    <tr style=\"text-align: right;\">\n",
       "      <th></th>\n",
       "      <th>hospital_name</th>\n",
       "      <th>city</th>\n",
       "      <th>system_name</th>\n",
       "      <th>beds</th>\n",
       "      <th>visits_2016</th>\n",
       "      <th>visits_2017</th>\n",
       "    </tr>\n",
       "  </thead>\n",
       "  <tbody>\n",
       "    <tr>\n",
       "      <th>0</th>\n",
       "      <td>BJH</td>\n",
       "      <td>St. Louis</td>\n",
       "      <td>BJC</td>\n",
       "      <td>1243</td>\n",
       "      <td>72348.0</td>\n",
       "      <td>81221</td>\n",
       "    </tr>\n",
       "    <tr>\n",
       "      <th>1</th>\n",
       "      <td>Mercy STL</td>\n",
       "      <td>Ladue</td>\n",
       "      <td>Mercy</td>\n",
       "      <td>1120</td>\n",
       "      <td>51932.0</td>\n",
       "      <td>52221</td>\n",
       "    </tr>\n",
       "    <tr>\n",
       "      <th>2</th>\n",
       "      <td>MoBap</td>\n",
       "      <td>Ladue</td>\n",
       "      <td>BJC</td>\n",
       "      <td>443</td>\n",
       "      <td>NaN</td>\n",
       "      <td>43921</td>\n",
       "    </tr>\n",
       "  </tbody>\n",
       "</table>\n",
       "</div>"
      ],
      "text/plain": [
       "  hospital_name       city system_name  beds  visits_2016  visits_2017\n",
       "0           BJH  St. Louis         BJC  1243      72348.0        81221\n",
       "1     Mercy STL      Ladue       Mercy  1120      51932.0        52221\n",
       "2         MoBap      Ladue         BJC   443          NaN        43921"
      ]
     },
     "execution_count": 20,
     "metadata": {},
     "output_type": "execute_result"
    }
   ],
   "source": [
    "pd.read_sql_query(\"\"\"\n",
    "  SELECT \n",
    "    h.*, \n",
    "    MIN(CASE WHEN v.year = 2016 THEN v.ed_visits ELSE NULL END) as visits_2016,\n",
    "    MIN(CASE WHEN v.year = 2017 THEN v.ed_visits ELSE NULL END) as visits_2017\n",
    "  FROM \n",
    "    hospitals h JOIN\n",
    "    ed_visits v ON h.hospital_name = v.hospital_name\n",
    "  WHERE\n",
    "    v.ed_visits > 43000\n",
    "  GROUP BY \n",
    "    h.hospital_name, h.city, h.system_name, h.beds\n",
    "\"\"\", conn)"
   ]
  },
  {
   "cell_type": "markdown",
   "metadata": {},
   "source": [
    "## Now, let's create some new data from scratch\n",
    "\n",
    "1. Create a dataframe\n",
    "2. Use a name that includes your username so that it's unique\n",
    "3. Write the df to a new table\n",
    "4. Query your data back out\n",
    "\n",
    "See https://pandas.pydata.org/pandas-docs/stable/reference/api/pandas.DataFrame.to_sql.html"
   ]
  },
  {
   "cell_type": "code",
   "execution_count": 21,
   "metadata": {},
   "outputs": [],
   "source": [
    "columns = ['hospital_name','year','ip_visits']\n",
    "data = [\n",
    "    ['BJH',2016,3124],\n",
    "    ['Mercy STL',2016,4321],\n",
    "    ['MoBap',2016,2783]\n",
    "]\n",
    "df = pd.DataFrame(data, columns=columns)"
   ]
  },
  {
   "cell_type": "code",
   "execution_count": 22,
   "metadata": {},
   "outputs": [
    {
     "data": {
      "text/html": [
       "<div>\n",
       "<style scoped>\n",
       "    .dataframe tbody tr th:only-of-type {\n",
       "        vertical-align: middle;\n",
       "    }\n",
       "\n",
       "    .dataframe tbody tr th {\n",
       "        vertical-align: top;\n",
       "    }\n",
       "\n",
       "    .dataframe thead th {\n",
       "        text-align: right;\n",
       "    }\n",
       "</style>\n",
       "<table border=\"1\" class=\"dataframe\">\n",
       "  <thead>\n",
       "    <tr style=\"text-align: right;\">\n",
       "      <th></th>\n",
       "      <th>hospital_name</th>\n",
       "      <th>year</th>\n",
       "      <th>ip_visits</th>\n",
       "    </tr>\n",
       "  </thead>\n",
       "  <tbody>\n",
       "    <tr>\n",
       "      <th>0</th>\n",
       "      <td>BJH</td>\n",
       "      <td>2016</td>\n",
       "      <td>3124</td>\n",
       "    </tr>\n",
       "    <tr>\n",
       "      <th>1</th>\n",
       "      <td>Mercy STL</td>\n",
       "      <td>2016</td>\n",
       "      <td>4321</td>\n",
       "    </tr>\n",
       "    <tr>\n",
       "      <th>2</th>\n",
       "      <td>MoBap</td>\n",
       "      <td>2016</td>\n",
       "      <td>2783</td>\n",
       "    </tr>\n",
       "  </tbody>\n",
       "</table>\n",
       "</div>"
      ],
      "text/plain": [
       "  hospital_name  year  ip_visits\n",
       "0           BJH  2016       3124\n",
       "1     Mercy STL  2016       4321\n",
       "2         MoBap  2016       2783"
      ]
     },
     "execution_count": 22,
     "metadata": {},
     "output_type": "execute_result"
    }
   ],
   "source": [
    "df"
   ]
  },
  {
   "cell_type": "code",
   "execution_count": 23,
   "metadata": {},
   "outputs": [
    {
     "data": {
      "text/plain": [
       "'paulboal'"
      ]
     },
     "execution_count": 23,
     "metadata": {},
     "output_type": "execute_result"
    }
   ],
   "source": [
    "import getpass\n",
    "myname = getpass.getuser().split('-')[1]\n",
    "myname"
   ]
  },
  {
   "cell_type": "code",
   "execution_count": 24,
   "metadata": {},
   "outputs": [],
   "source": [
    "df.to_sql(myname + '_ipv', conn, index=False)"
   ]
  },
  {
   "cell_type": "code",
   "execution_count": 25,
   "metadata": {},
   "outputs": [],
   "source": [
    "ip_visits = pd.read_sql_query('SELECT * FROM ' + myname + '_ipv', conn)"
   ]
  },
  {
   "cell_type": "code",
   "execution_count": 26,
   "metadata": {},
   "outputs": [
    {
     "data": {
      "text/html": [
       "<div>\n",
       "<style scoped>\n",
       "    .dataframe tbody tr th:only-of-type {\n",
       "        vertical-align: middle;\n",
       "    }\n",
       "\n",
       "    .dataframe tbody tr th {\n",
       "        vertical-align: top;\n",
       "    }\n",
       "\n",
       "    .dataframe thead th {\n",
       "        text-align: right;\n",
       "    }\n",
       "</style>\n",
       "<table border=\"1\" class=\"dataframe\">\n",
       "  <thead>\n",
       "    <tr style=\"text-align: right;\">\n",
       "      <th></th>\n",
       "      <th>hospital_name</th>\n",
       "      <th>year</th>\n",
       "      <th>ip_visits</th>\n",
       "    </tr>\n",
       "  </thead>\n",
       "  <tbody>\n",
       "    <tr>\n",
       "      <th>0</th>\n",
       "      <td>BJH</td>\n",
       "      <td>2016</td>\n",
       "      <td>3124</td>\n",
       "    </tr>\n",
       "    <tr>\n",
       "      <th>1</th>\n",
       "      <td>Mercy STL</td>\n",
       "      <td>2016</td>\n",
       "      <td>4321</td>\n",
       "    </tr>\n",
       "    <tr>\n",
       "      <th>2</th>\n",
       "      <td>MoBap</td>\n",
       "      <td>2016</td>\n",
       "      <td>2783</td>\n",
       "    </tr>\n",
       "  </tbody>\n",
       "</table>\n",
       "</div>"
      ],
      "text/plain": [
       "  hospital_name  year  ip_visits\n",
       "0           BJH  2016       3124\n",
       "1     Mercy STL  2016       4321\n",
       "2         MoBap  2016       2783"
      ]
     },
     "execution_count": 26,
     "metadata": {},
     "output_type": "execute_result"
    }
   ],
   "source": [
    "ip_visits"
   ]
  },
  {
   "cell_type": "code",
   "execution_count": 29,
   "metadata": {},
   "outputs": [
    {
     "data": {
      "text/html": [
       "<div>\n",
       "<style scoped>\n",
       "    .dataframe tbody tr th:only-of-type {\n",
       "        vertical-align: middle;\n",
       "    }\n",
       "\n",
       "    .dataframe tbody tr th {\n",
       "        vertical-align: top;\n",
       "    }\n",
       "\n",
       "    .dataframe thead th {\n",
       "        text-align: right;\n",
       "    }\n",
       "</style>\n",
       "<table border=\"1\" class=\"dataframe\">\n",
       "  <thead>\n",
       "    <tr style=\"text-align: right;\">\n",
       "      <th></th>\n",
       "      <th>Tables_in_hds5210</th>\n",
       "    </tr>\n",
       "  </thead>\n",
       "  <tbody>\n",
       "    <tr>\n",
       "      <th>0</th>\n",
       "      <td>ed_visits</td>\n",
       "    </tr>\n",
       "    <tr>\n",
       "      <th>1</th>\n",
       "      <td>hospital_services</td>\n",
       "    </tr>\n",
       "    <tr>\n",
       "      <th>2</th>\n",
       "      <td>hospitals</td>\n",
       "    </tr>\n",
       "    <tr>\n",
       "      <th>3</th>\n",
       "      <td>paulboal_data</td>\n",
       "    </tr>\n",
       "    <tr>\n",
       "      <th>4</th>\n",
       "      <td>population</td>\n",
       "    </tr>\n",
       "    <tr>\n",
       "      <th>5</th>\n",
       "      <td>system_affiliations</td>\n",
       "    </tr>\n",
       "  </tbody>\n",
       "</table>\n",
       "</div>"
      ],
      "text/plain": [
       "     Tables_in_hds5210\n",
       "0            ed_visits\n",
       "1    hospital_services\n",
       "2            hospitals\n",
       "3        paulboal_data\n",
       "4           population\n",
       "5  system_affiliations"
      ]
     },
     "execution_count": 29,
     "metadata": {},
     "output_type": "execute_result"
    }
   ],
   "source": [
    "pd.read_sql_query('SHOW TABLES', conn)"
   ]
  },
  {
   "cell_type": "markdown",
   "metadata": {},
   "source": [
    "## And we need to clean up after ourselves by dropping our table"
   ]
  },
  {
   "cell_type": "code",
   "execution_count": 28,
   "metadata": {},
   "outputs": [],
   "source": [
    "with conn.connect() as c:\n",
    "    c.execute('DROP TABLE IF EXISTS ' + myname + '_ipv')"
   ]
  },
  {
   "cell_type": "code",
   "execution_count": null,
   "metadata": {},
   "outputs": [],
   "source": []
  }
 ],
 "metadata": {
  "kernelspec": {
   "display_name": "Python 3",
   "language": "python",
   "name": "python3"
  },
  "language_info": {
   "codemirror_mode": {
    "name": "ipython",
    "version": 3
   },
   "file_extension": ".py",
   "mimetype": "text/x-python",
   "name": "python",
   "nbconvert_exporter": "python",
   "pygments_lexer": "ipython3",
   "version": "3.6.7"
  }
 },
 "nbformat": 4,
 "nbformat_minor": 2
}
